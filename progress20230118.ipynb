{
 "cells": [
  {
   "cell_type": "code",
   "execution_count": null,
   "metadata": {
    "collapsed": true
   },
   "outputs": [],
   "source": [
    "import torch\n",
    "import torchvision\n",
    "from torchvision import transforms\n",
    "from torch.nn import functional as F\n",
    "import torch.nn as nn\n",
    "from matplotlib import pyplot as plt\n",
    "import numpy as np\n",
    "import collections\n",
    "from pathlib import Path\n",
    "from PIL import Image\n",
    "from torch.utils.data import DataLoader, Dataset\n",
    "from moco_model import MoCo\n",
    "import time\n",
    "import itertools\n",
    "import os\n",
    "\n",
    "os.environ[\"PYTORCH_CUDA_ALLOC_CONF\"] = \"max_split_size_mb:128\"\n"
   ]
  },
  {
   "cell_type": "code",
   "execution_count": null,
   "outputs": [],
   "source": [
    "class ModifiedMOCO(MoCo):\n",
    "    def __init__(self, base_encoder, negative_samples, dim=512, K=1024, m=0.999, T=0.07, mlp=True):\n",
    "        super().__init__(base_encoder=base_encoder, dim=dim, K=K, m=m, T=T, mlp=mlp, three_channel=True, pretrained=True)\n",
    "        self.negative_samples = negative_samples\n",
    "        self.register_buffer('ns_ptr', torch.zeros(1, dtype=torch.long))\n",
    "        self.accompany_index = 25\n",
    "        self.valid_ns = (negative_samples.shape[0] // 384) * 384\n",
    "\n",
    "    @torch.no_grad()\n",
    "    def _dequeue_and_enqueue(self, keys):\n",
    "        \"\"\"\n",
    "        Here implement one of the choice to extract all negative samples sequentially. In this case, the queue is updated so frequently.\n",
    "        And it may be better to just extract the size of several times of batch size of negative samples to make the queue more stable.\n",
    "        :param keys:\n",
    "        :return:\n",
    "        \"\"\"\n",
    "        batch_size = keys.shape[0]\n",
    "        ptr = int(self.queue_ptr)\n",
    "        ns_ptr = int(self.ns_ptr)\n",
    "        with torch.no_grad():\n",
    "            negative_features = self.encoder_k(self.negative_samples[ns_ptr: ns_ptr + 384])\n",
    "            negative_features = F.normalize(negative_features, dim=1)\n",
    "        ns_ptr = (ns_ptr + 384) % self.valid_ns\n",
    "        self.ns_ptr[0] = ns_ptr\n",
    "        enque_array = torch.cat([keys, negative_features], dim=0)\n",
    "        enque_array = enque_array[torch.randperm(len(enque_array))]\n",
    "        self.queue[:, ptr: ptr + len(enque_array)] = enque_array.T\n",
    "        ptr = (ptr + batch_size) % self.K\n",
    "        self.queue_ptr[0] = ptr\n"
   ],
   "metadata": {
    "collapsed": false
   }
  }
 ],
 "metadata": {
  "kernelspec": {
   "display_name": "Python 3",
   "language": "python",
   "name": "python3"
  },
  "language_info": {
   "codemirror_mode": {
    "name": "ipython",
    "version": 2
   },
   "file_extension": ".py",
   "mimetype": "text/x-python",
   "name": "python",
   "nbconvert_exporter": "python",
   "pygments_lexer": "ipython2",
   "version": "2.7.6"
  }
 },
 "nbformat": 4,
 "nbformat_minor": 0
}
