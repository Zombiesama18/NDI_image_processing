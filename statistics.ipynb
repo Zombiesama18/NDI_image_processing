{
 "cells": [
  {
   "cell_type": "code",
   "execution_count": 15,
   "metadata": {
    "collapsed": true,
    "pycharm": {
     "name": "#%%\n"
    }
   },
   "outputs": [],
   "source": [
    "import cv2\n",
    "from pathlib import Path\n",
    "import collections\n",
    "import numpy as np"
   ]
  },
  {
   "cell_type": "code",
   "execution_count": 12,
   "outputs": [],
   "source": [
    "image_path = Path('E:/datasets/NDI_images/20220903_ElectronDiffraction/Individual (bin5_8000_=max intensity_=None)/Individual (bin5_8000_=max intensity_=None)')"
   ],
   "metadata": {
    "collapsed": false,
    "pycharm": {
     "name": "#%%\n"
    }
   }
  },
  {
   "cell_type": "code",
   "execution_count": 57,
   "outputs": [],
   "source": [
    "file_names = list(image_path.glob('*.tif'))\n",
    "normalized_file_path = Path.joinpath(image_path, 'normalized_imgs')\n",
    "for file in file_names:\n",
    "    file_name = file.name\n",
    "    img = cv2.imread(str(file), cv2.IMREAD_GRAYSCALE)\n",
    "    new_img = cv2.normalize(img, None, 0, 255, cv2.NORM_MINMAX)\n",
    "    cv2.imwrite(str(Path.joinpath(normalized_file_path, file_name)), new_img)"
   ],
   "metadata": {
    "collapsed": false,
    "pycharm": {
     "name": "#%%\n"
    }
   }
  },
  {
   "cell_type": "code",
   "execution_count": 36,
   "outputs": [],
   "source": [
    "file_names = list(image_path.glob('*.tif'))\n",
    "normalized_file_path = Path.joinpath(image_path, 'jpg_files')\n",
    "for file in file_names:\n",
    "    file_name = file.stem\n",
    "    img = cv2.imread(str(file), cv2.IMREAD_UNCHANGED)\n",
    "    cv2.imwrite(str(Path.joinpath(normalized_file_path, file_name + '.jpg')), img)"
   ],
   "metadata": {
    "collapsed": false,
    "pycharm": {
     "name": "#%%\n"
    }
   }
  },
  {
   "cell_type": "code",
   "execution_count": 26,
   "outputs": [],
   "source": [
    "file_names = list(image_path.glob('*.tif'))\n",
    "for file in file_names:\n",
    "    img = cv2.imread(str(file), cv2.IMREAD_UNCHANGED)\n",
    "    img = img.flatten()\n",
    "    result = collections.Counter(img)\n",
    "    break"
   ],
   "metadata": {
    "collapsed": false,
    "pycharm": {
     "name": "#%%\n"
    }
   }
  },
  {
   "cell_type": "code",
   "execution_count": 34,
   "outputs": [
    {
     "data": {
      "text/plain": "defaultdict(int, {(255, 360): 4333})"
     },
     "execution_count": 34,
     "metadata": {},
     "output_type": "execute_result"
    }
   ],
   "source": [
    "shape_counter = collections.defaultdict(int)\n",
    "file_names = list(image_path.glob('*.tif'))\n",
    "for file in file_names:\n",
    "    img = cv2.imread(str(file), cv2.IMREAD_UNCHANGED)\n",
    "    shape_counter[img.shape] += 1\n",
    "shape_counter"
   ],
   "metadata": {
    "collapsed": false,
    "pycharm": {
     "name": "#%%\n"
    }
   }
  },
  {
   "cell_type": "code",
   "execution_count": 52,
   "outputs": [
    {
     "name": "stdout",
     "output_type": "stream",
     "text": [
      "OrderedDict([(2, 10), (3, 2748), (4, 1111), (5, 285), (6, 95), (7, 52), (8, 21), (9, 10), (10, 1)])\n",
      "defaultdict(<class 'int'>, {0: 4333})\n"
     ]
    }
   ],
   "source": [
    "import sortedcollections\n",
    "\n",
    "max_counter = sortedcollections.OrderedDict()\n",
    "min_counter = collections.defaultdict(int)\n",
    "file_names = list(image_path.glob('*.tif'))\n",
    "for file in file_names:\n",
    "    img = cv2.imread(str(file), cv2.IMREAD_GRAYSCALE)\n",
    "    max_counter[np.max(img)] = max_counter.setdefault(np.max(img), 0) + 1\n",
    "    min_counter[np.min(img)] += 1\n",
    "print(sortedcollections.OrderedDict(sorted(max_counter.items(), key=lambda x: x[0])))\n",
    "print(min_counter)"
   ],
   "metadata": {
    "collapsed": false,
    "pycharm": {
     "name": "#%%\n"
    }
   }
  },
  {
   "cell_type": "code",
   "execution_count": 59,
   "outputs": [
    {
     "name": "stdout",
     "output_type": "stream",
     "text": [
      "Counter({0: 90083, 1: 1534, 2: 153, 3: 27, 4: 3})\n",
      "Counter({0: 90083, 64: 1534, 128: 153, 191: 27, 255: 3})\n"
     ]
    }
   ],
   "source": [
    "file_names = list(image_path.glob('*.tif'))\n",
    "file = file_names[0]\n",
    "img = cv2.imread(str(file), cv2.IMREAD_GRAYSCALE)\n",
    "print(collections.Counter(img.flatten()))\n",
    "new_img = cv2.normalize(img, None, 0, 255, cv2.NORM_MINMAX)\n",
    "print(collections.Counter(new_img.flatten()))"
   ],
   "metadata": {
    "collapsed": false,
    "pycharm": {
     "name": "#%%\n"
    }
   }
  },
  {
   "cell_type": "code",
   "execution_count": 17,
   "outputs": [],
   "source": [
    "cv2.imshow('img', img)\n",
    "cv2.waitKey(0)\n",
    "cv2.destroyAllWindows()"
   ],
   "metadata": {
    "collapsed": false,
    "pycharm": {
     "name": "#%%\n"
    }
   }
  },
  {
   "cell_type": "code",
   "execution_count": null,
   "outputs": [],
   "source": [],
   "metadata": {
    "collapsed": false,
    "pycharm": {
     "name": "#%%\n"
    }
   }
  }
 ],
 "metadata": {
  "kernelspec": {
   "display_name": "Python 3",
   "language": "python",
   "name": "python3"
  },
  "language_info": {
   "codemirror_mode": {
    "name": "ipython",
    "version": 2
   },
   "file_extension": ".py",
   "mimetype": "text/x-python",
   "name": "python",
   "nbconvert_exporter": "python",
   "pygments_lexer": "ipython2",
   "version": "2.7.6"
  }
 },
 "nbformat": 4,
 "nbformat_minor": 0
}