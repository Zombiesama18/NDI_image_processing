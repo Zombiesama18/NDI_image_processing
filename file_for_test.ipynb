{
 "cells": [
  {
   "cell_type": "code",
   "execution_count": 1,
   "metadata": {
    "collapsed": false
   },
   "outputs": [],
   "source": [
    "from torch.utils.data import Dataset, DataLoader\n",
    "from pathlib import Path\n",
    "import torchvision\n",
    "from PIL import Image\n",
    "import numpy as np\n",
    "import torch\n",
    "from torchvision import transforms"
   ]
  },
  {
   "cell_type": "code",
   "execution_count": 4,
   "metadata": {
    "collapsed": true
   },
   "outputs": [],
   "source": [
    "ORIGINAL_IMAGE = 'E:/datasets/NDI_images/Integreted/Observed/circle_binaryzation_pics'\n",
    "TARGET_IMAGE = 'E:/datasets/NDI_images/Integreted/Calculated/'"
   ]
  },
  {
   "cell_type": "code",
   "execution_count": 11,
   "metadata": {
    "collapsed": false
   },
   "outputs": [],
   "source": [
    "class ThreeChannelNDIDatasetContrastiveLearning(Dataset):\n",
    "    def __init__(self):\n",
    "        super(ThreeChannelNDIDatasetContrastiveLearning, self).__init__()\n",
    "        original_images = list(Path(ORIGINAL_IMAGE).glob('*.jpg'))\n",
    "        origins, targets, labels = [], [], []\n",
    "        to_tensor_func = torchvision.transforms.ToTensor()\n",
    "        for original_image in original_images:\n",
    "            origins.append(to_tensor_func(Image.open(str(original_image)).convert('RGB')))\n",
    "            targets.append(to_tensor_func(Image.open(str(Path.joinpath(Path(TARGET_IMAGE), original_image.name)))))\n",
    "            labels.append(int(original_image.name.split('.')[0]) - 1)\n",
    "        random_index = np.random.permutation(len(origins))\n",
    "        self.origins, self.targets, self.labels = [], [], []\n",
    "        for index in random_index:\n",
    "            self.origins.append(origins[index])\n",
    "            self.targets.append(targets[index])\n",
    "            self.labels.append(labels[index])\n",
    "\n",
    "    def __getitem__(self, idx):\n",
    "        return self.origins[idx], self.targets[idx], self.labels[idx]\n",
    "\n",
    "    def __len__(self):\n",
    "        return len(self.origins)"
   ]
  },
  {
   "cell_type": "code",
   "execution_count": 12,
   "metadata": {
    "collapsed": false
   },
   "outputs": [],
   "source": [
    "dataset_a = ThreeChannelNDIDatasetContrastiveLearning()\n",
    "train_dataset_a, val_dataset_a = torch.utils.data.random_split(dataset_a, [160, 24])\n",
    "train_iter_a = DataLoader(train_dataset_a, batch_size=16, shuffle=True, drop_last=True)\n",
    "val_iter_a = DataLoader(val_dataset_a, batch_size=len(val_dataset_a))"
   ]
  },
  {
   "cell_type": "code",
   "execution_count": 13,
   "metadata": {
    "collapsed": false
   },
   "outputs": [
    {
     "data": {
      "text/plain": [
       "tensor([  6,  82,  75, 167,  16,  77,  52, 163,  66, 105,   7,  86,  54, 123,\n",
       "         95,  25])"
      ]
     },
     "execution_count": 13,
     "metadata": {},
     "output_type": "execute_result"
    }
   ],
   "source": [
    "for d, e, f in train_iter_a:\n",
    "    break\n",
    "f"
   ]
  },
  {
   "cell_type": "code",
   "execution_count": null,
   "metadata": {
    "collapsed": false
   },
   "outputs": [],
   "source": [
    "origin = transforms.ToPILImage()(d[0].squeeze(0))\n",
    "target = transforms.ToPILImage()(e[0].squeeze(0))\n",
    "label = f[0]\n",
    "origin"
   ]
  },
  {
   "cell_type": "code",
   "execution_count": 22,
   "metadata": {
    "collapsed": false
   },
   "outputs": [],
   "source": [
    "def split_train_validation_randomly(original_path, target_path):\n",
    "    original_images = list(sorted(list(map(str, list(Path(original_path).glob('*.jpg'))))))\n",
    "    target_images = list(sorted(list(map(str, list(Path(target_path).glob('*.jpg'))))))\n",
    "    images = list(zip(original_images, target_images))\n",
    "    train_images, val_images = torch.utils.data.random_split(images, [160, 24])\n",
    "    return train_images, val_images\n",
    "\n",
    "class ThreeChannelNDIDatasetContrastiveLearningWithAug(Dataset):\n",
    "    def __init__(self, images, evaluate=False):\n",
    "        super(ThreeChannelNDIDatasetContrastiveLearningWithAug, self).__init__()\n",
    "        if not evaluate:\n",
    "            self.images = images[0]\n",
    "        else:\n",
    "            self.images = images[1]\n",
    "        self.transforms = transforms.Compose([\n",
    "            # transforms.CenterCrop(100),\n",
    "            # transforms.Resize(224),\n",
    "            # transforms.RandomHorizontalFlip(0.5),\n",
    "            # transforms.RandomVerticalFlip(0.5),\n",
    "            # transforms.RandomRotation(90),\n",
    "            ])\n",
    "\n",
    "    def __getitem__(self, idx):\n",
    "        origin_path, target_path = self.images[idx]\n",
    "        origin = Image.open(origin_path).convert('RGB')\n",
    "        target = Image.open(target_path)\n",
    "        origin, target = self.transforms(torch.cat((transforms.ToTensor()(origin).unsqueeze(0), transforms.ToTensor()(target).unsqueeze(0)), dim=0))\n",
    "        label = int(origin_path.split('\\\\')[-1].split('.')[0]) - 1\n",
    "        return origin, target, label\n",
    "\n",
    "    def __len__(self):\n",
    "        return len(self.images)"
   ]
  },
  {
   "cell_type": "code",
   "execution_count": 23,
   "metadata": {
    "collapsed": false
   },
   "outputs": [
    {
     "name": "stdout",
     "output_type": "stream",
     "text": [
      "['E:\\\\datasets\\\\NDI_images\\\\Integreted\\\\Observed\\\\circle_binaryzation_pics\\\\1.jpg', 'E:\\\\datasets\\\\NDI_images\\\\Integreted\\\\Observed\\\\circle_binaryzation_pics\\\\10.jpg', 'E:\\\\datasets\\\\NDI_images\\\\Integreted\\\\Observed\\\\circle_binaryzation_pics\\\\100.jpg', 'E:\\\\datasets\\\\NDI_images\\\\Integreted\\\\Observed\\\\circle_binaryzation_pics\\\\101.jpg', 'E:\\\\datasets\\\\NDI_images\\\\Integreted\\\\Observed\\\\circle_binaryzation_pics\\\\102.jpg', 'E:\\\\datasets\\\\NDI_images\\\\Integreted\\\\Observed\\\\circle_binaryzation_pics\\\\103.jpg', 'E:\\\\datasets\\\\NDI_images\\\\Integreted\\\\Observed\\\\circle_binaryzation_pics\\\\104.jpg', 'E:\\\\datasets\\\\NDI_images\\\\Integreted\\\\Observed\\\\circle_binaryzation_pics\\\\105.jpg', 'E:\\\\datasets\\\\NDI_images\\\\Integreted\\\\Observed\\\\circle_binaryzation_pics\\\\106.jpg', 'E:\\\\datasets\\\\NDI_images\\\\Integreted\\\\Observed\\\\circle_binaryzation_pics\\\\107.jpg', 'E:\\\\datasets\\\\NDI_images\\\\Integreted\\\\Observed\\\\circle_binaryzation_pics\\\\108.jpg', 'E:\\\\datasets\\\\NDI_images\\\\Integreted\\\\Observed\\\\circle_binaryzation_pics\\\\109.jpg', 'E:\\\\datasets\\\\NDI_images\\\\Integreted\\\\Observed\\\\circle_binaryzation_pics\\\\11.jpg', 'E:\\\\datasets\\\\NDI_images\\\\Integreted\\\\Observed\\\\circle_binaryzation_pics\\\\110.jpg', 'E:\\\\datasets\\\\NDI_images\\\\Integreted\\\\Observed\\\\circle_binaryzation_pics\\\\111.jpg', 'E:\\\\datasets\\\\NDI_images\\\\Integreted\\\\Observed\\\\circle_binaryzation_pics\\\\112.jpg', 'E:\\\\datasets\\\\NDI_images\\\\Integreted\\\\Observed\\\\circle_binaryzation_pics\\\\113.jpg', 'E:\\\\datasets\\\\NDI_images\\\\Integreted\\\\Observed\\\\circle_binaryzation_pics\\\\114.jpg', 'E:\\\\datasets\\\\NDI_images\\\\Integreted\\\\Observed\\\\circle_binaryzation_pics\\\\115.jpg', 'E:\\\\datasets\\\\NDI_images\\\\Integreted\\\\Observed\\\\circle_binaryzation_pics\\\\116.jpg', 'E:\\\\datasets\\\\NDI_images\\\\Integreted\\\\Observed\\\\circle_binaryzation_pics\\\\117.jpg', 'E:\\\\datasets\\\\NDI_images\\\\Integreted\\\\Observed\\\\circle_binaryzation_pics\\\\118.jpg', 'E:\\\\datasets\\\\NDI_images\\\\Integreted\\\\Observed\\\\circle_binaryzation_pics\\\\119.jpg', 'E:\\\\datasets\\\\NDI_images\\\\Integreted\\\\Observed\\\\circle_binaryzation_pics\\\\12.jpg', 'E:\\\\datasets\\\\NDI_images\\\\Integreted\\\\Observed\\\\circle_binaryzation_pics\\\\120.jpg', 'E:\\\\datasets\\\\NDI_images\\\\Integreted\\\\Observed\\\\circle_binaryzation_pics\\\\121.jpg', 'E:\\\\datasets\\\\NDI_images\\\\Integreted\\\\Observed\\\\circle_binaryzation_pics\\\\122.jpg', 'E:\\\\datasets\\\\NDI_images\\\\Integreted\\\\Observed\\\\circle_binaryzation_pics\\\\123.jpg', 'E:\\\\datasets\\\\NDI_images\\\\Integreted\\\\Observed\\\\circle_binaryzation_pics\\\\124.jpg', 'E:\\\\datasets\\\\NDI_images\\\\Integreted\\\\Observed\\\\circle_binaryzation_pics\\\\125.jpg', 'E:\\\\datasets\\\\NDI_images\\\\Integreted\\\\Observed\\\\circle_binaryzation_pics\\\\126.jpg', 'E:\\\\datasets\\\\NDI_images\\\\Integreted\\\\Observed\\\\circle_binaryzation_pics\\\\127.jpg', 'E:\\\\datasets\\\\NDI_images\\\\Integreted\\\\Observed\\\\circle_binaryzation_pics\\\\128.jpg', 'E:\\\\datasets\\\\NDI_images\\\\Integreted\\\\Observed\\\\circle_binaryzation_pics\\\\129.jpg', 'E:\\\\datasets\\\\NDI_images\\\\Integreted\\\\Observed\\\\circle_binaryzation_pics\\\\13.jpg', 'E:\\\\datasets\\\\NDI_images\\\\Integreted\\\\Observed\\\\circle_binaryzation_pics\\\\130.jpg', 'E:\\\\datasets\\\\NDI_images\\\\Integreted\\\\Observed\\\\circle_binaryzation_pics\\\\131.jpg', 'E:\\\\datasets\\\\NDI_images\\\\Integreted\\\\Observed\\\\circle_binaryzation_pics\\\\132.jpg', 'E:\\\\datasets\\\\NDI_images\\\\Integreted\\\\Observed\\\\circle_binaryzation_pics\\\\133.jpg', 'E:\\\\datasets\\\\NDI_images\\\\Integreted\\\\Observed\\\\circle_binaryzation_pics\\\\134.jpg', 'E:\\\\datasets\\\\NDI_images\\\\Integreted\\\\Observed\\\\circle_binaryzation_pics\\\\135.jpg', 'E:\\\\datasets\\\\NDI_images\\\\Integreted\\\\Observed\\\\circle_binaryzation_pics\\\\136.jpg', 'E:\\\\datasets\\\\NDI_images\\\\Integreted\\\\Observed\\\\circle_binaryzation_pics\\\\137.jpg', 'E:\\\\datasets\\\\NDI_images\\\\Integreted\\\\Observed\\\\circle_binaryzation_pics\\\\138.jpg', 'E:\\\\datasets\\\\NDI_images\\\\Integreted\\\\Observed\\\\circle_binaryzation_pics\\\\139.jpg', 'E:\\\\datasets\\\\NDI_images\\\\Integreted\\\\Observed\\\\circle_binaryzation_pics\\\\14.jpg', 'E:\\\\datasets\\\\NDI_images\\\\Integreted\\\\Observed\\\\circle_binaryzation_pics\\\\140.jpg', 'E:\\\\datasets\\\\NDI_images\\\\Integreted\\\\Observed\\\\circle_binaryzation_pics\\\\141.jpg', 'E:\\\\datasets\\\\NDI_images\\\\Integreted\\\\Observed\\\\circle_binaryzation_pics\\\\142.jpg', 'E:\\\\datasets\\\\NDI_images\\\\Integreted\\\\Observed\\\\circle_binaryzation_pics\\\\143.jpg', 'E:\\\\datasets\\\\NDI_images\\\\Integreted\\\\Observed\\\\circle_binaryzation_pics\\\\144.jpg', 'E:\\\\datasets\\\\NDI_images\\\\Integreted\\\\Observed\\\\circle_binaryzation_pics\\\\145.jpg', 'E:\\\\datasets\\\\NDI_images\\\\Integreted\\\\Observed\\\\circle_binaryzation_pics\\\\146.jpg', 'E:\\\\datasets\\\\NDI_images\\\\Integreted\\\\Observed\\\\circle_binaryzation_pics\\\\147.jpg', 'E:\\\\datasets\\\\NDI_images\\\\Integreted\\\\Observed\\\\circle_binaryzation_pics\\\\148.jpg', 'E:\\\\datasets\\\\NDI_images\\\\Integreted\\\\Observed\\\\circle_binaryzation_pics\\\\149.jpg', 'E:\\\\datasets\\\\NDI_images\\\\Integreted\\\\Observed\\\\circle_binaryzation_pics\\\\15.jpg', 'E:\\\\datasets\\\\NDI_images\\\\Integreted\\\\Observed\\\\circle_binaryzation_pics\\\\150.jpg', 'E:\\\\datasets\\\\NDI_images\\\\Integreted\\\\Observed\\\\circle_binaryzation_pics\\\\151.jpg', 'E:\\\\datasets\\\\NDI_images\\\\Integreted\\\\Observed\\\\circle_binaryzation_pics\\\\152.jpg', 'E:\\\\datasets\\\\NDI_images\\\\Integreted\\\\Observed\\\\circle_binaryzation_pics\\\\153.jpg', 'E:\\\\datasets\\\\NDI_images\\\\Integreted\\\\Observed\\\\circle_binaryzation_pics\\\\154.jpg', 'E:\\\\datasets\\\\NDI_images\\\\Integreted\\\\Observed\\\\circle_binaryzation_pics\\\\155.jpg', 'E:\\\\datasets\\\\NDI_images\\\\Integreted\\\\Observed\\\\circle_binaryzation_pics\\\\156.jpg', 'E:\\\\datasets\\\\NDI_images\\\\Integreted\\\\Observed\\\\circle_binaryzation_pics\\\\157.jpg', 'E:\\\\datasets\\\\NDI_images\\\\Integreted\\\\Observed\\\\circle_binaryzation_pics\\\\158.jpg', 'E:\\\\datasets\\\\NDI_images\\\\Integreted\\\\Observed\\\\circle_binaryzation_pics\\\\159.jpg', 'E:\\\\datasets\\\\NDI_images\\\\Integreted\\\\Observed\\\\circle_binaryzation_pics\\\\16.jpg', 'E:\\\\datasets\\\\NDI_images\\\\Integreted\\\\Observed\\\\circle_binaryzation_pics\\\\160.jpg', 'E:\\\\datasets\\\\NDI_images\\\\Integreted\\\\Observed\\\\circle_binaryzation_pics\\\\161.jpg', 'E:\\\\datasets\\\\NDI_images\\\\Integreted\\\\Observed\\\\circle_binaryzation_pics\\\\162.jpg', 'E:\\\\datasets\\\\NDI_images\\\\Integreted\\\\Observed\\\\circle_binaryzation_pics\\\\163.jpg', 'E:\\\\datasets\\\\NDI_images\\\\Integreted\\\\Observed\\\\circle_binaryzation_pics\\\\164.jpg', 'E:\\\\datasets\\\\NDI_images\\\\Integreted\\\\Observed\\\\circle_binaryzation_pics\\\\165.jpg', 'E:\\\\datasets\\\\NDI_images\\\\Integreted\\\\Observed\\\\circle_binaryzation_pics\\\\166.jpg', 'E:\\\\datasets\\\\NDI_images\\\\Integreted\\\\Observed\\\\circle_binaryzation_pics\\\\167.jpg', 'E:\\\\datasets\\\\NDI_images\\\\Integreted\\\\Observed\\\\circle_binaryzation_pics\\\\168.jpg', 'E:\\\\datasets\\\\NDI_images\\\\Integreted\\\\Observed\\\\circle_binaryzation_pics\\\\169.jpg', 'E:\\\\datasets\\\\NDI_images\\\\Integreted\\\\Observed\\\\circle_binaryzation_pics\\\\17.jpg', 'E:\\\\datasets\\\\NDI_images\\\\Integreted\\\\Observed\\\\circle_binaryzation_pics\\\\170.jpg', 'E:\\\\datasets\\\\NDI_images\\\\Integreted\\\\Observed\\\\circle_binaryzation_pics\\\\171.jpg', 'E:\\\\datasets\\\\NDI_images\\\\Integreted\\\\Observed\\\\circle_binaryzation_pics\\\\172.jpg', 'E:\\\\datasets\\\\NDI_images\\\\Integreted\\\\Observed\\\\circle_binaryzation_pics\\\\173.jpg', 'E:\\\\datasets\\\\NDI_images\\\\Integreted\\\\Observed\\\\circle_binaryzation_pics\\\\174.jpg', 'E:\\\\datasets\\\\NDI_images\\\\Integreted\\\\Observed\\\\circle_binaryzation_pics\\\\175.jpg', 'E:\\\\datasets\\\\NDI_images\\\\Integreted\\\\Observed\\\\circle_binaryzation_pics\\\\176.jpg', 'E:\\\\datasets\\\\NDI_images\\\\Integreted\\\\Observed\\\\circle_binaryzation_pics\\\\177.jpg', 'E:\\\\datasets\\\\NDI_images\\\\Integreted\\\\Observed\\\\circle_binaryzation_pics\\\\178.jpg', 'E:\\\\datasets\\\\NDI_images\\\\Integreted\\\\Observed\\\\circle_binaryzation_pics\\\\179.jpg', 'E:\\\\datasets\\\\NDI_images\\\\Integreted\\\\Observed\\\\circle_binaryzation_pics\\\\18.jpg', 'E:\\\\datasets\\\\NDI_images\\\\Integreted\\\\Observed\\\\circle_binaryzation_pics\\\\180.jpg', 'E:\\\\datasets\\\\NDI_images\\\\Integreted\\\\Observed\\\\circle_binaryzation_pics\\\\181.jpg', 'E:\\\\datasets\\\\NDI_images\\\\Integreted\\\\Observed\\\\circle_binaryzation_pics\\\\182.jpg', 'E:\\\\datasets\\\\NDI_images\\\\Integreted\\\\Observed\\\\circle_binaryzation_pics\\\\183.jpg', 'E:\\\\datasets\\\\NDI_images\\\\Integreted\\\\Observed\\\\circle_binaryzation_pics\\\\184.jpg', 'E:\\\\datasets\\\\NDI_images\\\\Integreted\\\\Observed\\\\circle_binaryzation_pics\\\\19.jpg', 'E:\\\\datasets\\\\NDI_images\\\\Integreted\\\\Observed\\\\circle_binaryzation_pics\\\\2.jpg', 'E:\\\\datasets\\\\NDI_images\\\\Integreted\\\\Observed\\\\circle_binaryzation_pics\\\\20.jpg', 'E:\\\\datasets\\\\NDI_images\\\\Integreted\\\\Observed\\\\circle_binaryzation_pics\\\\21.jpg', 'E:\\\\datasets\\\\NDI_images\\\\Integreted\\\\Observed\\\\circle_binaryzation_pics\\\\22.jpg', 'E:\\\\datasets\\\\NDI_images\\\\Integreted\\\\Observed\\\\circle_binaryzation_pics\\\\23.jpg', 'E:\\\\datasets\\\\NDI_images\\\\Integreted\\\\Observed\\\\circle_binaryzation_pics\\\\24.jpg', 'E:\\\\datasets\\\\NDI_images\\\\Integreted\\\\Observed\\\\circle_binaryzation_pics\\\\25.jpg', 'E:\\\\datasets\\\\NDI_images\\\\Integreted\\\\Observed\\\\circle_binaryzation_pics\\\\26.jpg', 'E:\\\\datasets\\\\NDI_images\\\\Integreted\\\\Observed\\\\circle_binaryzation_pics\\\\27.jpg', 'E:\\\\datasets\\\\NDI_images\\\\Integreted\\\\Observed\\\\circle_binaryzation_pics\\\\28.jpg', 'E:\\\\datasets\\\\NDI_images\\\\Integreted\\\\Observed\\\\circle_binaryzation_pics\\\\29.jpg', 'E:\\\\datasets\\\\NDI_images\\\\Integreted\\\\Observed\\\\circle_binaryzation_pics\\\\3.jpg', 'E:\\\\datasets\\\\NDI_images\\\\Integreted\\\\Observed\\\\circle_binaryzation_pics\\\\30.jpg', 'E:\\\\datasets\\\\NDI_images\\\\Integreted\\\\Observed\\\\circle_binaryzation_pics\\\\31.jpg', 'E:\\\\datasets\\\\NDI_images\\\\Integreted\\\\Observed\\\\circle_binaryzation_pics\\\\32.jpg', 'E:\\\\datasets\\\\NDI_images\\\\Integreted\\\\Observed\\\\circle_binaryzation_pics\\\\33.jpg', 'E:\\\\datasets\\\\NDI_images\\\\Integreted\\\\Observed\\\\circle_binaryzation_pics\\\\34.jpg', 'E:\\\\datasets\\\\NDI_images\\\\Integreted\\\\Observed\\\\circle_binaryzation_pics\\\\35.jpg', 'E:\\\\datasets\\\\NDI_images\\\\Integreted\\\\Observed\\\\circle_binaryzation_pics\\\\36.jpg', 'E:\\\\datasets\\\\NDI_images\\\\Integreted\\\\Observed\\\\circle_binaryzation_pics\\\\37.jpg', 'E:\\\\datasets\\\\NDI_images\\\\Integreted\\\\Observed\\\\circle_binaryzation_pics\\\\38.jpg', 'E:\\\\datasets\\\\NDI_images\\\\Integreted\\\\Observed\\\\circle_binaryzation_pics\\\\39.jpg', 'E:\\\\datasets\\\\NDI_images\\\\Integreted\\\\Observed\\\\circle_binaryzation_pics\\\\4.jpg', 'E:\\\\datasets\\\\NDI_images\\\\Integreted\\\\Observed\\\\circle_binaryzation_pics\\\\40.jpg', 'E:\\\\datasets\\\\NDI_images\\\\Integreted\\\\Observed\\\\circle_binaryzation_pics\\\\41.jpg', 'E:\\\\datasets\\\\NDI_images\\\\Integreted\\\\Observed\\\\circle_binaryzation_pics\\\\42.jpg', 'E:\\\\datasets\\\\NDI_images\\\\Integreted\\\\Observed\\\\circle_binaryzation_pics\\\\43.jpg', 'E:\\\\datasets\\\\NDI_images\\\\Integreted\\\\Observed\\\\circle_binaryzation_pics\\\\44.jpg', 'E:\\\\datasets\\\\NDI_images\\\\Integreted\\\\Observed\\\\circle_binaryzation_pics\\\\45.jpg', 'E:\\\\datasets\\\\NDI_images\\\\Integreted\\\\Observed\\\\circle_binaryzation_pics\\\\46.jpg', 'E:\\\\datasets\\\\NDI_images\\\\Integreted\\\\Observed\\\\circle_binaryzation_pics\\\\47.jpg', 'E:\\\\datasets\\\\NDI_images\\\\Integreted\\\\Observed\\\\circle_binaryzation_pics\\\\48.jpg', 'E:\\\\datasets\\\\NDI_images\\\\Integreted\\\\Observed\\\\circle_binaryzation_pics\\\\49.jpg', 'E:\\\\datasets\\\\NDI_images\\\\Integreted\\\\Observed\\\\circle_binaryzation_pics\\\\5.jpg', 'E:\\\\datasets\\\\NDI_images\\\\Integreted\\\\Observed\\\\circle_binaryzation_pics\\\\50.jpg', 'E:\\\\datasets\\\\NDI_images\\\\Integreted\\\\Observed\\\\circle_binaryzation_pics\\\\51.jpg', 'E:\\\\datasets\\\\NDI_images\\\\Integreted\\\\Observed\\\\circle_binaryzation_pics\\\\52.jpg', 'E:\\\\datasets\\\\NDI_images\\\\Integreted\\\\Observed\\\\circle_binaryzation_pics\\\\53.jpg', 'E:\\\\datasets\\\\NDI_images\\\\Integreted\\\\Observed\\\\circle_binaryzation_pics\\\\54.jpg', 'E:\\\\datasets\\\\NDI_images\\\\Integreted\\\\Observed\\\\circle_binaryzation_pics\\\\55.jpg', 'E:\\\\datasets\\\\NDI_images\\\\Integreted\\\\Observed\\\\circle_binaryzation_pics\\\\56.jpg', 'E:\\\\datasets\\\\NDI_images\\\\Integreted\\\\Observed\\\\circle_binaryzation_pics\\\\57.jpg', 'E:\\\\datasets\\\\NDI_images\\\\Integreted\\\\Observed\\\\circle_binaryzation_pics\\\\58.jpg', 'E:\\\\datasets\\\\NDI_images\\\\Integreted\\\\Observed\\\\circle_binaryzation_pics\\\\59.jpg', 'E:\\\\datasets\\\\NDI_images\\\\Integreted\\\\Observed\\\\circle_binaryzation_pics\\\\6.jpg', 'E:\\\\datasets\\\\NDI_images\\\\Integreted\\\\Observed\\\\circle_binaryzation_pics\\\\60.jpg', 'E:\\\\datasets\\\\NDI_images\\\\Integreted\\\\Observed\\\\circle_binaryzation_pics\\\\61.jpg', 'E:\\\\datasets\\\\NDI_images\\\\Integreted\\\\Observed\\\\circle_binaryzation_pics\\\\62.jpg', 'E:\\\\datasets\\\\NDI_images\\\\Integreted\\\\Observed\\\\circle_binaryzation_pics\\\\63.jpg', 'E:\\\\datasets\\\\NDI_images\\\\Integreted\\\\Observed\\\\circle_binaryzation_pics\\\\64.jpg', 'E:\\\\datasets\\\\NDI_images\\\\Integreted\\\\Observed\\\\circle_binaryzation_pics\\\\65.jpg', 'E:\\\\datasets\\\\NDI_images\\\\Integreted\\\\Observed\\\\circle_binaryzation_pics\\\\66.jpg', 'E:\\\\datasets\\\\NDI_images\\\\Integreted\\\\Observed\\\\circle_binaryzation_pics\\\\67.jpg', 'E:\\\\datasets\\\\NDI_images\\\\Integreted\\\\Observed\\\\circle_binaryzation_pics\\\\68.jpg', 'E:\\\\datasets\\\\NDI_images\\\\Integreted\\\\Observed\\\\circle_binaryzation_pics\\\\69.jpg', 'E:\\\\datasets\\\\NDI_images\\\\Integreted\\\\Observed\\\\circle_binaryzation_pics\\\\7.jpg', 'E:\\\\datasets\\\\NDI_images\\\\Integreted\\\\Observed\\\\circle_binaryzation_pics\\\\70.jpg', 'E:\\\\datasets\\\\NDI_images\\\\Integreted\\\\Observed\\\\circle_binaryzation_pics\\\\71.jpg', 'E:\\\\datasets\\\\NDI_images\\\\Integreted\\\\Observed\\\\circle_binaryzation_pics\\\\72.jpg', 'E:\\\\datasets\\\\NDI_images\\\\Integreted\\\\Observed\\\\circle_binaryzation_pics\\\\73.jpg', 'E:\\\\datasets\\\\NDI_images\\\\Integreted\\\\Observed\\\\circle_binaryzation_pics\\\\74.jpg', 'E:\\\\datasets\\\\NDI_images\\\\Integreted\\\\Observed\\\\circle_binaryzation_pics\\\\75.jpg', 'E:\\\\datasets\\\\NDI_images\\\\Integreted\\\\Observed\\\\circle_binaryzation_pics\\\\76.jpg', 'E:\\\\datasets\\\\NDI_images\\\\Integreted\\\\Observed\\\\circle_binaryzation_pics\\\\77.jpg', 'E:\\\\datasets\\\\NDI_images\\\\Integreted\\\\Observed\\\\circle_binaryzation_pics\\\\78.jpg', 'E:\\\\datasets\\\\NDI_images\\\\Integreted\\\\Observed\\\\circle_binaryzation_pics\\\\79.jpg', 'E:\\\\datasets\\\\NDI_images\\\\Integreted\\\\Observed\\\\circle_binaryzation_pics\\\\8.jpg', 'E:\\\\datasets\\\\NDI_images\\\\Integreted\\\\Observed\\\\circle_binaryzation_pics\\\\80.jpg', 'E:\\\\datasets\\\\NDI_images\\\\Integreted\\\\Observed\\\\circle_binaryzation_pics\\\\81.jpg', 'E:\\\\datasets\\\\NDI_images\\\\Integreted\\\\Observed\\\\circle_binaryzation_pics\\\\82.jpg', 'E:\\\\datasets\\\\NDI_images\\\\Integreted\\\\Observed\\\\circle_binaryzation_pics\\\\83.jpg', 'E:\\\\datasets\\\\NDI_images\\\\Integreted\\\\Observed\\\\circle_binaryzation_pics\\\\84.jpg', 'E:\\\\datasets\\\\NDI_images\\\\Integreted\\\\Observed\\\\circle_binaryzation_pics\\\\85.jpg', 'E:\\\\datasets\\\\NDI_images\\\\Integreted\\\\Observed\\\\circle_binaryzation_pics\\\\86.jpg', 'E:\\\\datasets\\\\NDI_images\\\\Integreted\\\\Observed\\\\circle_binaryzation_pics\\\\87.jpg', 'E:\\\\datasets\\\\NDI_images\\\\Integreted\\\\Observed\\\\circle_binaryzation_pics\\\\88.jpg', 'E:\\\\datasets\\\\NDI_images\\\\Integreted\\\\Observed\\\\circle_binaryzation_pics\\\\89.jpg', 'E:\\\\datasets\\\\NDI_images\\\\Integreted\\\\Observed\\\\circle_binaryzation_pics\\\\9.jpg', 'E:\\\\datasets\\\\NDI_images\\\\Integreted\\\\Observed\\\\circle_binaryzation_pics\\\\90.jpg', 'E:\\\\datasets\\\\NDI_images\\\\Integreted\\\\Observed\\\\circle_binaryzation_pics\\\\91.jpg', 'E:\\\\datasets\\\\NDI_images\\\\Integreted\\\\Observed\\\\circle_binaryzation_pics\\\\92.jpg', 'E:\\\\datasets\\\\NDI_images\\\\Integreted\\\\Observed\\\\circle_binaryzation_pics\\\\93.jpg', 'E:\\\\datasets\\\\NDI_images\\\\Integreted\\\\Observed\\\\circle_binaryzation_pics\\\\94.jpg', 'E:\\\\datasets\\\\NDI_images\\\\Integreted\\\\Observed\\\\circle_binaryzation_pics\\\\95.jpg', 'E:\\\\datasets\\\\NDI_images\\\\Integreted\\\\Observed\\\\circle_binaryzation_pics\\\\96.jpg', 'E:\\\\datasets\\\\NDI_images\\\\Integreted\\\\Observed\\\\circle_binaryzation_pics\\\\97.jpg', 'E:\\\\datasets\\\\NDI_images\\\\Integreted\\\\Observed\\\\circle_binaryzation_pics\\\\98.jpg', 'E:\\\\datasets\\\\NDI_images\\\\Integreted\\\\Observed\\\\circle_binaryzation_pics\\\\99.jpg']\n",
      "['E:\\\\datasets\\\\NDI_images\\\\Integreted\\\\Calculated\\\\1.jpg', 'E:\\\\datasets\\\\NDI_images\\\\Integreted\\\\Calculated\\\\10.jpg', 'E:\\\\datasets\\\\NDI_images\\\\Integreted\\\\Calculated\\\\100.jpg', 'E:\\\\datasets\\\\NDI_images\\\\Integreted\\\\Calculated\\\\101.jpg', 'E:\\\\datasets\\\\NDI_images\\\\Integreted\\\\Calculated\\\\102.jpg', 'E:\\\\datasets\\\\NDI_images\\\\Integreted\\\\Calculated\\\\103.jpg', 'E:\\\\datasets\\\\NDI_images\\\\Integreted\\\\Calculated\\\\104.jpg', 'E:\\\\datasets\\\\NDI_images\\\\Integreted\\\\Calculated\\\\105.jpg', 'E:\\\\datasets\\\\NDI_images\\\\Integreted\\\\Calculated\\\\106.jpg', 'E:\\\\datasets\\\\NDI_images\\\\Integreted\\\\Calculated\\\\107.jpg', 'E:\\\\datasets\\\\NDI_images\\\\Integreted\\\\Calculated\\\\108.jpg', 'E:\\\\datasets\\\\NDI_images\\\\Integreted\\\\Calculated\\\\109.jpg', 'E:\\\\datasets\\\\NDI_images\\\\Integreted\\\\Calculated\\\\11.jpg', 'E:\\\\datasets\\\\NDI_images\\\\Integreted\\\\Calculated\\\\110.jpg', 'E:\\\\datasets\\\\NDI_images\\\\Integreted\\\\Calculated\\\\111.jpg', 'E:\\\\datasets\\\\NDI_images\\\\Integreted\\\\Calculated\\\\112.jpg', 'E:\\\\datasets\\\\NDI_images\\\\Integreted\\\\Calculated\\\\113.jpg', 'E:\\\\datasets\\\\NDI_images\\\\Integreted\\\\Calculated\\\\114.jpg', 'E:\\\\datasets\\\\NDI_images\\\\Integreted\\\\Calculated\\\\115.jpg', 'E:\\\\datasets\\\\NDI_images\\\\Integreted\\\\Calculated\\\\116.jpg', 'E:\\\\datasets\\\\NDI_images\\\\Integreted\\\\Calculated\\\\117.jpg', 'E:\\\\datasets\\\\NDI_images\\\\Integreted\\\\Calculated\\\\118.jpg', 'E:\\\\datasets\\\\NDI_images\\\\Integreted\\\\Calculated\\\\119.jpg', 'E:\\\\datasets\\\\NDI_images\\\\Integreted\\\\Calculated\\\\12.jpg', 'E:\\\\datasets\\\\NDI_images\\\\Integreted\\\\Calculated\\\\120.jpg', 'E:\\\\datasets\\\\NDI_images\\\\Integreted\\\\Calculated\\\\121.jpg', 'E:\\\\datasets\\\\NDI_images\\\\Integreted\\\\Calculated\\\\122.jpg', 'E:\\\\datasets\\\\NDI_images\\\\Integreted\\\\Calculated\\\\123.jpg', 'E:\\\\datasets\\\\NDI_images\\\\Integreted\\\\Calculated\\\\124.jpg', 'E:\\\\datasets\\\\NDI_images\\\\Integreted\\\\Calculated\\\\125.jpg', 'E:\\\\datasets\\\\NDI_images\\\\Integreted\\\\Calculated\\\\126.jpg', 'E:\\\\datasets\\\\NDI_images\\\\Integreted\\\\Calculated\\\\127.jpg', 'E:\\\\datasets\\\\NDI_images\\\\Integreted\\\\Calculated\\\\128.jpg', 'E:\\\\datasets\\\\NDI_images\\\\Integreted\\\\Calculated\\\\129.jpg', 'E:\\\\datasets\\\\NDI_images\\\\Integreted\\\\Calculated\\\\13.jpg', 'E:\\\\datasets\\\\NDI_images\\\\Integreted\\\\Calculated\\\\130.jpg', 'E:\\\\datasets\\\\NDI_images\\\\Integreted\\\\Calculated\\\\131.jpg', 'E:\\\\datasets\\\\NDI_images\\\\Integreted\\\\Calculated\\\\132.jpg', 'E:\\\\datasets\\\\NDI_images\\\\Integreted\\\\Calculated\\\\133.jpg', 'E:\\\\datasets\\\\NDI_images\\\\Integreted\\\\Calculated\\\\134.jpg', 'E:\\\\datasets\\\\NDI_images\\\\Integreted\\\\Calculated\\\\135.jpg', 'E:\\\\datasets\\\\NDI_images\\\\Integreted\\\\Calculated\\\\136.jpg', 'E:\\\\datasets\\\\NDI_images\\\\Integreted\\\\Calculated\\\\137.jpg', 'E:\\\\datasets\\\\NDI_images\\\\Integreted\\\\Calculated\\\\138.jpg', 'E:\\\\datasets\\\\NDI_images\\\\Integreted\\\\Calculated\\\\139.jpg', 'E:\\\\datasets\\\\NDI_images\\\\Integreted\\\\Calculated\\\\14.jpg', 'E:\\\\datasets\\\\NDI_images\\\\Integreted\\\\Calculated\\\\140.jpg', 'E:\\\\datasets\\\\NDI_images\\\\Integreted\\\\Calculated\\\\141.jpg', 'E:\\\\datasets\\\\NDI_images\\\\Integreted\\\\Calculated\\\\142.jpg', 'E:\\\\datasets\\\\NDI_images\\\\Integreted\\\\Calculated\\\\143.jpg', 'E:\\\\datasets\\\\NDI_images\\\\Integreted\\\\Calculated\\\\144.jpg', 'E:\\\\datasets\\\\NDI_images\\\\Integreted\\\\Calculated\\\\145.jpg', 'E:\\\\datasets\\\\NDI_images\\\\Integreted\\\\Calculated\\\\146.jpg', 'E:\\\\datasets\\\\NDI_images\\\\Integreted\\\\Calculated\\\\147.jpg', 'E:\\\\datasets\\\\NDI_images\\\\Integreted\\\\Calculated\\\\148.jpg', 'E:\\\\datasets\\\\NDI_images\\\\Integreted\\\\Calculated\\\\149.jpg', 'E:\\\\datasets\\\\NDI_images\\\\Integreted\\\\Calculated\\\\15.jpg', 'E:\\\\datasets\\\\NDI_images\\\\Integreted\\\\Calculated\\\\150.jpg', 'E:\\\\datasets\\\\NDI_images\\\\Integreted\\\\Calculated\\\\151.jpg', 'E:\\\\datasets\\\\NDI_images\\\\Integreted\\\\Calculated\\\\152.jpg', 'E:\\\\datasets\\\\NDI_images\\\\Integreted\\\\Calculated\\\\153.jpg', 'E:\\\\datasets\\\\NDI_images\\\\Integreted\\\\Calculated\\\\154.jpg', 'E:\\\\datasets\\\\NDI_images\\\\Integreted\\\\Calculated\\\\155.jpg', 'E:\\\\datasets\\\\NDI_images\\\\Integreted\\\\Calculated\\\\156.jpg', 'E:\\\\datasets\\\\NDI_images\\\\Integreted\\\\Calculated\\\\157.jpg', 'E:\\\\datasets\\\\NDI_images\\\\Integreted\\\\Calculated\\\\158.jpg', 'E:\\\\datasets\\\\NDI_images\\\\Integreted\\\\Calculated\\\\159.jpg', 'E:\\\\datasets\\\\NDI_images\\\\Integreted\\\\Calculated\\\\16.jpg', 'E:\\\\datasets\\\\NDI_images\\\\Integreted\\\\Calculated\\\\160.jpg', 'E:\\\\datasets\\\\NDI_images\\\\Integreted\\\\Calculated\\\\161.jpg', 'E:\\\\datasets\\\\NDI_images\\\\Integreted\\\\Calculated\\\\162.jpg', 'E:\\\\datasets\\\\NDI_images\\\\Integreted\\\\Calculated\\\\163.jpg', 'E:\\\\datasets\\\\NDI_images\\\\Integreted\\\\Calculated\\\\164.jpg', 'E:\\\\datasets\\\\NDI_images\\\\Integreted\\\\Calculated\\\\165.jpg', 'E:\\\\datasets\\\\NDI_images\\\\Integreted\\\\Calculated\\\\166.jpg', 'E:\\\\datasets\\\\NDI_images\\\\Integreted\\\\Calculated\\\\167.jpg', 'E:\\\\datasets\\\\NDI_images\\\\Integreted\\\\Calculated\\\\168.jpg', 'E:\\\\datasets\\\\NDI_images\\\\Integreted\\\\Calculated\\\\169.jpg', 'E:\\\\datasets\\\\NDI_images\\\\Integreted\\\\Calculated\\\\17.jpg', 'E:\\\\datasets\\\\NDI_images\\\\Integreted\\\\Calculated\\\\170.jpg', 'E:\\\\datasets\\\\NDI_images\\\\Integreted\\\\Calculated\\\\171.jpg', 'E:\\\\datasets\\\\NDI_images\\\\Integreted\\\\Calculated\\\\172.jpg', 'E:\\\\datasets\\\\NDI_images\\\\Integreted\\\\Calculated\\\\173.jpg', 'E:\\\\datasets\\\\NDI_images\\\\Integreted\\\\Calculated\\\\174.jpg', 'E:\\\\datasets\\\\NDI_images\\\\Integreted\\\\Calculated\\\\175.jpg', 'E:\\\\datasets\\\\NDI_images\\\\Integreted\\\\Calculated\\\\176.jpg', 'E:\\\\datasets\\\\NDI_images\\\\Integreted\\\\Calculated\\\\177.jpg', 'E:\\\\datasets\\\\NDI_images\\\\Integreted\\\\Calculated\\\\178.jpg', 'E:\\\\datasets\\\\NDI_images\\\\Integreted\\\\Calculated\\\\179.jpg', 'E:\\\\datasets\\\\NDI_images\\\\Integreted\\\\Calculated\\\\18.jpg', 'E:\\\\datasets\\\\NDI_images\\\\Integreted\\\\Calculated\\\\180.jpg', 'E:\\\\datasets\\\\NDI_images\\\\Integreted\\\\Calculated\\\\181.jpg', 'E:\\\\datasets\\\\NDI_images\\\\Integreted\\\\Calculated\\\\182.jpg', 'E:\\\\datasets\\\\NDI_images\\\\Integreted\\\\Calculated\\\\183.jpg', 'E:\\\\datasets\\\\NDI_images\\\\Integreted\\\\Calculated\\\\184.jpg', 'E:\\\\datasets\\\\NDI_images\\\\Integreted\\\\Calculated\\\\19.jpg', 'E:\\\\datasets\\\\NDI_images\\\\Integreted\\\\Calculated\\\\2.jpg', 'E:\\\\datasets\\\\NDI_images\\\\Integreted\\\\Calculated\\\\20.jpg', 'E:\\\\datasets\\\\NDI_images\\\\Integreted\\\\Calculated\\\\21.jpg', 'E:\\\\datasets\\\\NDI_images\\\\Integreted\\\\Calculated\\\\22.jpg', 'E:\\\\datasets\\\\NDI_images\\\\Integreted\\\\Calculated\\\\23.jpg', 'E:\\\\datasets\\\\NDI_images\\\\Integreted\\\\Calculated\\\\24.jpg', 'E:\\\\datasets\\\\NDI_images\\\\Integreted\\\\Calculated\\\\25.jpg', 'E:\\\\datasets\\\\NDI_images\\\\Integreted\\\\Calculated\\\\26.jpg', 'E:\\\\datasets\\\\NDI_images\\\\Integreted\\\\Calculated\\\\27.jpg', 'E:\\\\datasets\\\\NDI_images\\\\Integreted\\\\Calculated\\\\28.jpg', 'E:\\\\datasets\\\\NDI_images\\\\Integreted\\\\Calculated\\\\29.jpg', 'E:\\\\datasets\\\\NDI_images\\\\Integreted\\\\Calculated\\\\3.jpg', 'E:\\\\datasets\\\\NDI_images\\\\Integreted\\\\Calculated\\\\30.jpg', 'E:\\\\datasets\\\\NDI_images\\\\Integreted\\\\Calculated\\\\31.jpg', 'E:\\\\datasets\\\\NDI_images\\\\Integreted\\\\Calculated\\\\32.jpg', 'E:\\\\datasets\\\\NDI_images\\\\Integreted\\\\Calculated\\\\33.jpg', 'E:\\\\datasets\\\\NDI_images\\\\Integreted\\\\Calculated\\\\34.jpg', 'E:\\\\datasets\\\\NDI_images\\\\Integreted\\\\Calculated\\\\35.jpg', 'E:\\\\datasets\\\\NDI_images\\\\Integreted\\\\Calculated\\\\36.jpg', 'E:\\\\datasets\\\\NDI_images\\\\Integreted\\\\Calculated\\\\37.jpg', 'E:\\\\datasets\\\\NDI_images\\\\Integreted\\\\Calculated\\\\38.jpg', 'E:\\\\datasets\\\\NDI_images\\\\Integreted\\\\Calculated\\\\39.jpg', 'E:\\\\datasets\\\\NDI_images\\\\Integreted\\\\Calculated\\\\4.jpg', 'E:\\\\datasets\\\\NDI_images\\\\Integreted\\\\Calculated\\\\40.jpg', 'E:\\\\datasets\\\\NDI_images\\\\Integreted\\\\Calculated\\\\41.jpg', 'E:\\\\datasets\\\\NDI_images\\\\Integreted\\\\Calculated\\\\42.jpg', 'E:\\\\datasets\\\\NDI_images\\\\Integreted\\\\Calculated\\\\43.jpg', 'E:\\\\datasets\\\\NDI_images\\\\Integreted\\\\Calculated\\\\44.jpg', 'E:\\\\datasets\\\\NDI_images\\\\Integreted\\\\Calculated\\\\45.jpg', 'E:\\\\datasets\\\\NDI_images\\\\Integreted\\\\Calculated\\\\46.jpg', 'E:\\\\datasets\\\\NDI_images\\\\Integreted\\\\Calculated\\\\47.jpg', 'E:\\\\datasets\\\\NDI_images\\\\Integreted\\\\Calculated\\\\48.jpg', 'E:\\\\datasets\\\\NDI_images\\\\Integreted\\\\Calculated\\\\49.jpg', 'E:\\\\datasets\\\\NDI_images\\\\Integreted\\\\Calculated\\\\5.jpg', 'E:\\\\datasets\\\\NDI_images\\\\Integreted\\\\Calculated\\\\50.jpg', 'E:\\\\datasets\\\\NDI_images\\\\Integreted\\\\Calculated\\\\51.jpg', 'E:\\\\datasets\\\\NDI_images\\\\Integreted\\\\Calculated\\\\52.jpg', 'E:\\\\datasets\\\\NDI_images\\\\Integreted\\\\Calculated\\\\53.jpg', 'E:\\\\datasets\\\\NDI_images\\\\Integreted\\\\Calculated\\\\54.jpg', 'E:\\\\datasets\\\\NDI_images\\\\Integreted\\\\Calculated\\\\55.jpg', 'E:\\\\datasets\\\\NDI_images\\\\Integreted\\\\Calculated\\\\56.jpg', 'E:\\\\datasets\\\\NDI_images\\\\Integreted\\\\Calculated\\\\57.jpg', 'E:\\\\datasets\\\\NDI_images\\\\Integreted\\\\Calculated\\\\58.jpg', 'E:\\\\datasets\\\\NDI_images\\\\Integreted\\\\Calculated\\\\59.jpg', 'E:\\\\datasets\\\\NDI_images\\\\Integreted\\\\Calculated\\\\6.jpg', 'E:\\\\datasets\\\\NDI_images\\\\Integreted\\\\Calculated\\\\60.jpg', 'E:\\\\datasets\\\\NDI_images\\\\Integreted\\\\Calculated\\\\61.jpg', 'E:\\\\datasets\\\\NDI_images\\\\Integreted\\\\Calculated\\\\62.jpg', 'E:\\\\datasets\\\\NDI_images\\\\Integreted\\\\Calculated\\\\63.jpg', 'E:\\\\datasets\\\\NDI_images\\\\Integreted\\\\Calculated\\\\64.jpg', 'E:\\\\datasets\\\\NDI_images\\\\Integreted\\\\Calculated\\\\65.jpg', 'E:\\\\datasets\\\\NDI_images\\\\Integreted\\\\Calculated\\\\66.jpg', 'E:\\\\datasets\\\\NDI_images\\\\Integreted\\\\Calculated\\\\67.jpg', 'E:\\\\datasets\\\\NDI_images\\\\Integreted\\\\Calculated\\\\68.jpg', 'E:\\\\datasets\\\\NDI_images\\\\Integreted\\\\Calculated\\\\69.jpg', 'E:\\\\datasets\\\\NDI_images\\\\Integreted\\\\Calculated\\\\7.jpg', 'E:\\\\datasets\\\\NDI_images\\\\Integreted\\\\Calculated\\\\70.jpg', 'E:\\\\datasets\\\\NDI_images\\\\Integreted\\\\Calculated\\\\71.jpg', 'E:\\\\datasets\\\\NDI_images\\\\Integreted\\\\Calculated\\\\72.jpg', 'E:\\\\datasets\\\\NDI_images\\\\Integreted\\\\Calculated\\\\73.jpg', 'E:\\\\datasets\\\\NDI_images\\\\Integreted\\\\Calculated\\\\74.jpg', 'E:\\\\datasets\\\\NDI_images\\\\Integreted\\\\Calculated\\\\75.jpg', 'E:\\\\datasets\\\\NDI_images\\\\Integreted\\\\Calculated\\\\76.jpg', 'E:\\\\datasets\\\\NDI_images\\\\Integreted\\\\Calculated\\\\77.jpg', 'E:\\\\datasets\\\\NDI_images\\\\Integreted\\\\Calculated\\\\78.jpg', 'E:\\\\datasets\\\\NDI_images\\\\Integreted\\\\Calculated\\\\79.jpg', 'E:\\\\datasets\\\\NDI_images\\\\Integreted\\\\Calculated\\\\8.jpg', 'E:\\\\datasets\\\\NDI_images\\\\Integreted\\\\Calculated\\\\80.jpg', 'E:\\\\datasets\\\\NDI_images\\\\Integreted\\\\Calculated\\\\81.jpg', 'E:\\\\datasets\\\\NDI_images\\\\Integreted\\\\Calculated\\\\82.jpg', 'E:\\\\datasets\\\\NDI_images\\\\Integreted\\\\Calculated\\\\83.jpg', 'E:\\\\datasets\\\\NDI_images\\\\Integreted\\\\Calculated\\\\84.jpg', 'E:\\\\datasets\\\\NDI_images\\\\Integreted\\\\Calculated\\\\85.jpg', 'E:\\\\datasets\\\\NDI_images\\\\Integreted\\\\Calculated\\\\86.jpg', 'E:\\\\datasets\\\\NDI_images\\\\Integreted\\\\Calculated\\\\87.jpg', 'E:\\\\datasets\\\\NDI_images\\\\Integreted\\\\Calculated\\\\88.jpg', 'E:\\\\datasets\\\\NDI_images\\\\Integreted\\\\Calculated\\\\89.jpg', 'E:\\\\datasets\\\\NDI_images\\\\Integreted\\\\Calculated\\\\9.jpg', 'E:\\\\datasets\\\\NDI_images\\\\Integreted\\\\Calculated\\\\90.jpg', 'E:\\\\datasets\\\\NDI_images\\\\Integreted\\\\Calculated\\\\91.jpg', 'E:\\\\datasets\\\\NDI_images\\\\Integreted\\\\Calculated\\\\92.jpg', 'E:\\\\datasets\\\\NDI_images\\\\Integreted\\\\Calculated\\\\93.jpg', 'E:\\\\datasets\\\\NDI_images\\\\Integreted\\\\Calculated\\\\94.jpg', 'E:\\\\datasets\\\\NDI_images\\\\Integreted\\\\Calculated\\\\95.jpg', 'E:\\\\datasets\\\\NDI_images\\\\Integreted\\\\Calculated\\\\96.jpg', 'E:\\\\datasets\\\\NDI_images\\\\Integreted\\\\Calculated\\\\97.jpg', 'E:\\\\datasets\\\\NDI_images\\\\Integreted\\\\Calculated\\\\98.jpg', 'E:\\\\datasets\\\\NDI_images\\\\Integreted\\\\Calculated\\\\99.jpg']\n"
     ]
    }
   ],
   "source": [
    "images_b = split_train_validation_randomly(ORIGINAL_IMAGE, TARGET_IMAGE)\n",
    "train_dataset_b = ThreeChannelNDIDatasetContrastiveLearningWithAug(images_b, False)\n",
    "val_dataset_b = ThreeChannelNDIDatasetContrastiveLearningWithAug(images_b, True)\n",
    "train_iter_b = DataLoader(train_dataset_b, batch_size=16, shuffle=True, drop_last=True)\n",
    "val_iter_b = DataLoader(val_dataset_b, batch_size=len(val_dataset_b))"
   ]
  },
  {
   "cell_type": "code",
   "execution_count": 27,
   "metadata": {
    "collapsed": false
   },
   "outputs": [
    {
     "data": {
      "text/plain": [
       "10"
      ]
     },
     "execution_count": 27,
     "metadata": {},
     "output_type": "execute_result"
    }
   ],
   "source": [
    "len(train_iter_a)"
   ]
  },
  {
   "cell_type": "code",
   "execution_count": 26,
   "metadata": {
    "collapsed": false
   },
   "outputs": [
    {
     "data": {
      "text/plain": [
       "10"
      ]
     },
     "execution_count": 26,
     "metadata": {},
     "output_type": "execute_result"
    }
   ],
   "source": [
    "len(train_iter_b)"
   ]
  }
 ],
 "metadata": {
  "kernelspec": {
   "display_name": "Python 3",
   "language": "python",
   "name": "python3"
  },
  "language_info": {
   "codemirror_mode": {
    "name": "ipython",
    "version": 2
   },
   "file_extension": ".py",
   "mimetype": "text/x-python",
   "name": "python",
   "nbconvert_exporter": "python",
   "pygments_lexer": "ipython2",
   "version": "3.6.8 (default, Nov 16 2020, 16:55:22) \n[GCC 4.8.5 20150623 (Red Hat 4.8.5-44)]"
  },
  "vscode": {
   "interpreter": {
    "hash": "916dbcbb3f70747c44a77c7bcd40155683ae19c65e1c03b4aa3499c5328201f1"
   }
  }
 },
 "nbformat": 4,
 "nbformat_minor": 0
}
