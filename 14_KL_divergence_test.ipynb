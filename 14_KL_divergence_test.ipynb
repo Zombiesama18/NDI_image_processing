{
 "cells": [
  {
   "cell_type": "code",
   "execution_count": 1,
   "metadata": {},
   "outputs": [],
   "source": [
    "import torch\n",
    "import torch.nn.functional as f\n",
    "import torchvision"
   ]
  },
  {
   "cell_type": "code",
   "execution_count": 3,
   "metadata": {},
   "outputs": [],
   "source": [
    "def kl_divergence(p, q):\n",
    "    p = f.softmax(p, dim=-1)\n",
    "    q = f.softmax(q, dim=-1)\n",
    "    p = p.unsqueeze(1)\n",
    "    q = q.unsqueeze(0)\n",
    "    kl_matrix = (p * (p / q).log()).sum(-1)\n",
    "    return torch.exp(-kl_matrix)"
   ]
  },
  {
   "cell_type": "code",
   "execution_count": 6,
   "metadata": {},
   "outputs": [
    {
     "data": {
      "text/plain": [
       "torch.Size([32, 32])"
      ]
     },
     "execution_count": 6,
     "metadata": {},
     "output_type": "execute_result"
    }
   ],
   "source": [
    "inputs1 = torch.randn((32, 512))\n",
    "inputs2 = torch.randn((32, 512))\n",
    "kl_divergence(inputs1, inputs1).shape"
   ]
  },
  {
   "cell_type": "code",
   "execution_count": 30,
   "metadata": {},
   "outputs": [],
   "source": [
    "def kl_divergence(p, q):\n",
    "    kl_div = F.kl_div(F.log_softmax(p, dim=-1), F.softmax(q, dim=-1), reduction='none')\n",
    "    return kl_div.sum(-1).mean()\n",
    "\n"
   ]
  },
  {
   "cell_type": "code",
   "execution_count": 83,
   "metadata": {},
   "outputs": [],
   "source": [
    "p = torch.randn((32, 512))\n",
    "q = p\n",
    "\n",
    "p = f.softmax(p, dim=-1)\n",
    "q = f.softmax(q, dim=-1)"
   ]
  },
  {
   "cell_type": "code",
   "execution_count": 84,
   "metadata": {},
   "outputs": [],
   "source": [
    "kl_mat = torch.zeros(32, 32)\n",
    "for i in range(32):\n",
    "    for j in range(32):\n",
    "        kl_mat[i, j] = f.kl_div((p[i] + 1e-9).log(), q[j], reduction='batchmean')"
   ]
  },
  {
   "cell_type": "code",
   "execution_count": 85,
   "metadata": {},
   "outputs": [],
   "source": [
    "p = p.unsqueeze(1)\n",
    "q = q.unsqueeze(0)\n",
    "kl_matrix = (p * (p / q).log()).sum(-1)"
   ]
  },
  {
   "cell_type": "code",
   "execution_count": 86,
   "metadata": {},
   "outputs": [
    {
     "data": {
      "text/plain": [
       "tensor([[-1.0475e-09,  1.9684e-03,  1.8026e-03,  ...,  2.0061e-03,\n",
       "          1.8273e-03,  1.9455e-03],\n",
       "        [ 1.8094e-03, -9.8646e-10,  2.0102e-03,  ...,  1.7264e-03,\n",
       "          1.6433e-03,  2.0970e-03],\n",
       "        [ 1.7965e-03,  1.9396e-03, -9.7498e-10,  ...,  1.8571e-03,\n",
       "          1.9544e-03,  2.3418e-03],\n",
       "        ...,\n",
       "        [ 2.0161e-03,  1.7959e-03,  1.8703e-03,  ..., -9.6588e-10,\n",
       "          1.9491e-03,  2.0898e-03],\n",
       "        [ 1.8642e-03,  1.6683e-03,  1.9517e-03,  ...,  1.8599e-03,\n",
       "         -9.5383e-10,  1.9502e-03],\n",
       "        [ 2.0214e-03,  1.9536e-03,  1.9987e-03,  ...,  2.0871e-03,\n",
       "          1.9228e-03, -9.3456e-10]])"
      ]
     },
     "execution_count": 86,
     "metadata": {},
     "output_type": "execute_result"
    }
   ],
   "source": [
    "kl_mat"
   ]
  },
  {
   "cell_type": "code",
   "execution_count": 89,
   "metadata": {},
   "outputs": [
    {
     "data": {
      "text/plain": [
       "tensor([[1.0000, 0.3960, 0.3986,  ..., 0.3562, 0.3850, 0.3552],\n",
       "        [0.3650, 1.0000, 0.3704,  ..., 0.3987, 0.4256, 0.3678],\n",
       "        [0.3973, 0.3573, 1.0000,  ..., 0.3838, 0.3681, 0.3594],\n",
       "        ...,\n",
       "        [0.3580, 0.4132, 0.3864,  ..., 1.0000, 0.3859, 0.3435],\n",
       "        [0.3924, 0.4311, 0.3676,  ..., 0.3686, 1.0000, 0.3736],\n",
       "        [0.3693, 0.3418, 0.3015,  ..., 0.3430, 0.3684, 1.0000]])"
      ]
     },
     "execution_count": 89,
     "metadata": {},
     "output_type": "execute_result"
    }
   ],
   "source": [
    "torch.exp(-kl_matrix)"
   ]
  },
  {
   "cell_type": "code",
   "execution_count": 20,
   "metadata": {},
   "outputs": [
    {
     "data": {
      "text/plain": [
       "tensor(1.0000)"
      ]
     },
     "execution_count": 20,
     "metadata": {},
     "output_type": "execute_result"
    }
   ],
   "source": [
    "torch.max(kl_div)"
   ]
  },
  {
   "cell_type": "code",
   "execution_count": 9,
   "metadata": {},
   "outputs": [],
   "source": [
    "scores, labels = kl_div.topk(3, 1, True, True)"
   ]
  },
  {
   "cell_type": "code",
   "execution_count": 12,
   "metadata": {},
   "outputs": [
    {
     "data": {
      "text/plain": [
       "tensor([[17, 19,  4],\n",
       "        [17, 13, 19],\n",
       "        [17,  1, 23],\n",
       "        [17,  4, 19],\n",
       "        [17, 23,  4],\n",
       "        [17, 30, 16],\n",
       "        [17,  4,  1],\n",
       "        [17, 19,  4],\n",
       "        [17,  4, 19],\n",
       "        [17, 19, 30],\n",
       "        [17, 19, 30],\n",
       "        [17,  4,  1],\n",
       "        [17,  4, 19],\n",
       "        [17, 19,  4],\n",
       "        [17, 19,  4],\n",
       "        [17, 23,  7],\n",
       "        [17, 23, 19],\n",
       "        [17, 19,  4],\n",
       "        [17, 19,  1],\n",
       "        [17, 19,  4],\n",
       "        [17, 23,  4],\n",
       "        [17,  4, 19],\n",
       "        [17,  4, 19],\n",
       "        [17,  4, 19],\n",
       "        [17, 19, 23],\n",
       "        [17,  4, 19],\n",
       "        [17, 19,  4],\n",
       "        [19, 17, 13],\n",
       "        [17,  4, 19],\n",
       "        [17,  4, 19],\n",
       "        [17, 19,  4],\n",
       "        [ 4, 17, 19]])"
      ]
     },
     "execution_count": 12,
     "metadata": {},
     "output_type": "execute_result"
    }
   ],
   "source": [
    "labels"
   ]
  },
  {
   "cell_type": "code",
   "execution_count": 95,
   "metadata": {},
   "outputs": [
    {
     "data": {
      "text/plain": [
       "tensor([-1.4021, -4.1922, -0.7900, -0.7249])"
      ]
     },
     "execution_count": 95,
     "metadata": {},
     "output_type": "execute_result"
    }
   ],
   "source": [
    "targets = [0.22, 0.015, 0.3742, 0.395]\n",
    "targets = torch.tensor(targets)\n",
    "\n",
    "def func(x):\n",
    "    return x + torch.log(-torch.expm1(-x))\n",
    "\n",
    "func(targets)"
   ]
  },
  {
   "cell_type": "code",
   "execution_count": 94,
   "metadata": {},
   "outputs": [
    {
     "data": {
      "text/plain": [
       "tensor(0.2200)"
      ]
     },
     "execution_count": 94,
     "metadata": {},
     "output_type": "execute_result"
    }
   ],
   "source": [
    "torch.nn.functional.softplus(torch.tensor(-1.4021))"
   ]
  }
 ],
 "metadata": {
  "kernelspec": {
   "display_name": "py2cuda118",
   "language": "python",
   "name": "python3"
  },
  "language_info": {
   "codemirror_mode": {
    "name": "ipython",
    "version": 3
   },
   "file_extension": ".py",
   "mimetype": "text/x-python",
   "name": "python",
   "nbconvert_exporter": "python",
   "pygments_lexer": "ipython3",
   "version": "3.9.16"
  },
  "orig_nbformat": 4
 },
 "nbformat": 4,
 "nbformat_minor": 2
}
