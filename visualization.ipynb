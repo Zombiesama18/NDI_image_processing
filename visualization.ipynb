{
 "cells": [
  {
   "cell_type": "code",
   "execution_count": 4,
   "metadata": {},
   "outputs": [],
   "source": [
    "import torch\n",
    "import torchvision\n",
    "from dataset import SingleChannelNDIDatasetContrastiveLearningWithAug\n",
    "from pathlib import Path\n",
    "from torch.utils.data import DataLoader\n",
    "from matplotlib import pyplot as plt\n",
    "from PIL import Image\n",
    "from typing import Union"
   ]
  },
  {
   "cell_type": "code",
   "execution_count": 68,
   "metadata": {},
   "outputs": [],
   "source": [
    "def show_tensor(img_tensor: torch.Tensor, num_img_per_row: int=6, figsize:Union[tuple, list]=(12, 12)):\n",
    "    num_channels = img_tensor.size(0)\n",
    "    n_rows = num_channels // num_img_per_row\n",
    "    fig, axes = plt.subplots(n_rows, num_img_per_row, figsize=figsize)\n",
    "    for i in range(n_rows):\n",
    "        for j in range(num_img_per_row):\n",
    "            idx = i * num_img_per_row + j\n",
    "            if idx < num_channels:\n",
    "                tensor = img_tensor[idx]\n",
    "                assert tensor.dim() in (2, 3)\n",
    "                img = tensor.numpy()\n",
    "                if tensor.dim() == 3:\n",
    "                    img = img.transpose(1, 2, 0)\n",
    "                axes[i, j].imshow(img)\n",
    "                axes[i, j].axis('off')\n",
    "            else:\n",
    "                axes[i, j].remove()\n",
    "    plt.subplots_adjust(wspace=0.05, hspace=-0.8)\n",
    "    plt.show()\n",
    "\n",
    "def get_model():\n",
    "    base_encoder = torchvision.models.resnet50(weights=None)\n",
    "    base_encoder.conv1 = torch.nn.Conv2d(1, 64, kernel_size=(7, 7), stride=(2, 2), padding=(3, 3), bias=False)\n",
    "    origin_dim_mlp = base_encoder.fc.in_features\n",
    "    base_encoder.fc = None\n",
    "    temp = torch.load(f'./checkpoints/ImageNet_ALL_CHECK_400_Epoch.pth')['state_dict']\n",
    "    state_dict = {}\n",
    "    for k, v in temp.items():\n",
    "        if 'encoder_q' in k:\n",
    "            if 'fc' not in k:\n",
    "                state_dict['.'.join(k.split('.')[1:])] = v\n",
    "    base_encoder.load_state_dict(state_dict)\n",
    "    base_encoder.fc = torch.nn.Linear(origin_dim_mlp, 512)\n",
    "    return base_encoder\n",
    "\n",
    "def get_intermediate_output_ResNet(model: torchvision.models.ResNet, inputs: torch.Tensor):\n",
    "    x = inputs\n",
    "    output = []\n",
    "    for i, layer in enumerate(list(model.children())):\n",
    "        x = layer(x)\n",
    "        if i in (4, 5, 6, 7):\n",
    "            output.append(x)\n",
    "        if i == 8:\n",
    "            x = torch.flatten(x, 1)\n",
    "    return output\n",
    "        "
   ]
  },
  {
   "cell_type": "code",
   "execution_count": 44,
   "metadata": {},
   "outputs": [
    {
     "name": "stderr",
     "output_type": "stream",
     "text": [
      "/home/gp.sc.cc.tohoku.ac.jp/duanct/miniconda3/envs/py2cuda118/lib/python3.9/site-packages/torchvision/transforms/functional.py:1603: UserWarning: The default value of the antialias parameter of all the resizing transforms (Resize(), RandomResizedCrop(), etc.) will change from None to True in v0.17, in order to be consistent across the PIL and Tensor backends. To suppress this warning, directly pass antialias=True (recommended, future default), antialias=None (current default, which means False for Tensors and True for PIL), or antialias=False (only works on Tensors - PIL will still use antialiasing). This also applies if you are using the inference transforms from the models weights: update the call to weights.transforms(antialias=True).\n",
      "  warnings.warn(\n"
     ]
    },
    {
     "name": "stdout",
     "output_type": "stream",
     "text": [
      "torch.Size([1, 64, 100, 100])\n",
      "torch.Size([1, 64, 100, 100])\n",
      "torch.Size([1, 64, 100, 100])\n",
      "torch.Size([1, 64, 50, 50])\n",
      "torch.Size([1, 256, 50, 50])\n",
      "torch.Size([1, 512, 25, 25])\n",
      "torch.Size([1, 1024, 13, 13])\n",
      "torch.Size([1, 2048, 7, 7])\n",
      "torch.Size([1, 2048, 1, 1])\n",
      "torch.Size([1, 512])\n",
      "torch.Size([1, 64, 100, 100])\n",
      "torch.Size([1, 64, 100, 100])\n",
      "torch.Size([1, 64, 100, 100])\n",
      "torch.Size([1, 64, 50, 50])\n",
      "torch.Size([1, 256, 50, 50])\n",
      "torch.Size([1, 512, 25, 25])\n",
      "torch.Size([1, 1024, 13, 13])\n",
      "torch.Size([1, 2048, 7, 7])\n",
      "torch.Size([1, 2048, 1, 1])\n",
      "torch.Size([1, 512])\n"
     ]
    }
   ],
   "source": [
    "ORIGINAL_IMAGE = '../datasets/NDI_images/Integreted/Observed/'\n",
    "TARGET_IMAGE = '../datasets/NDI_images/Integreted/Calculated/'\n",
    "original_images = list(sorted(list(map(str, list(Path(ORIGINAL_IMAGE).glob('*.jpg'))))))\n",
    "target_images = list(sorted(list(map(str, list(Path(TARGET_IMAGE).glob('*.jpg'))))))\n",
    "images = list(reversed(list(zip(original_images, target_images))))\n",
    "train_dataset = SingleChannelNDIDatasetContrastiveLearningWithAug([images, []], False, 200)\n",
    "train_iter = DataLoader(train_dataset, 1, shuffle=True, drop_last=True)\n",
    "\n",
    "with torch.no_grad():\n",
    "    origin, target, label = next(iter(train_iter))\n",
    "    model = get_model()\n",
    "    origin_inter, target_inter = get_intermediate_output_ResNet(model, origin), get_intermediate_output_ResNet(model, target)\n"
   ]
  },
  {
   "cell_type": "code",
   "execution_count": 78,
   "metadata": {},
   "outputs": [
    {
     "data": {
      "image/png": "[encoded data removed]",
      "text/plain": [
       "<Figure size 1200x1200 with 12 Axes>"
      ]
     },
     "metadata": {},
     "output_type": "display_data"
    }
   ],
   "source": [
    "show_tensor(origin_inter[3][0][:12])"
   ]
  },
  {
   "cell_type": "code",
   "execution_count": 79,
   "metadata": {},
   "outputs": [
    {
     "data": {
      "image/png": "[encoded data removed]",
      "text/plain": [
       "<Figure size 1200x1200 with 12 Axes>"
      ]
     },
     "metadata": {},
     "output_type": "display_data"
    }
   ],
   "source": [
    "show_tensor(target_inter[3][0][:12])"
   ]
  }
 ],
 "metadata": {
  "kernelspec": {
   "display_name": "py2cuda118",
   "language": "python",
   "name": "python3"
  },
  "language_info": {
   "codemirror_mode": {
    "name": "ipython",
    "version": 3
   },
   "file_extension": ".py",
   "mimetype": "text/x-python",
   "name": "python",
   "nbconvert_exporter": "python",
   "pygments_lexer": "ipython3",
   "version": "3.9.16"
  },
  "orig_nbformat": 4
 },
 "nbformat": 4,
 "nbformat_minor": 2
}
