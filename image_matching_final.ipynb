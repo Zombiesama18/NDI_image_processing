{
 "cells": [
  {
   "cell_type": "code",
   "execution_count": 1,
   "metadata": {
    "collapsed": true,
    "pycharm": {
     "name": "#%%\n"
    }
   },
   "outputs": [],
   "source": [
    "import torch\n",
    "import torch.nn as nn\n",
    "from torch.nn import functional as f\n",
    "from pathlib import Path\n",
    "import numpy as np\n",
    "import torchvision\n",
    "from torch.utils.data import DataLoader, Dataset\n",
    "import os\n",
    "from torchsummary import torchsummary\n",
    "from PIL import Image"
   ]
  },
  {
   "cell_type": "code",
   "execution_count": 2,
   "outputs": [],
   "source": [
    "# Local\n",
    "\n",
    "ORIGINAL_IMAGE = 'E:/dataSets/NDI_images/20220725/20220725/Observed_Crop_200x200pix'\n",
    "TARGET_IMAGE = 'E:/dataSets/NDI_images/20220725/20220725/Calculated_200x200/grayscale'"
   ],
   "metadata": {
    "collapsed": false,
    "pycharm": {
     "name": "#%%\n"
    }
   }
  },
  {
   "cell_type": "code",
   "execution_count": null,
   "outputs": [],
   "source": [
    "# On Server\n",
    "\n",
    "ORIGINAL_IMAGE = '/import/mqhome/duanct/dataSets/NDI_images/20220725/20220725/Observed_Crop_200x200pix'\n",
    "TARGET_IMAGE = '/import/mqhome/duanct/dataSets/NDI_images/20220725/20220725/Calculated_200x200/grayscale'"
   ],
   "metadata": {
    "collapsed": false,
    "pycharm": {
     "name": "#%%\n"
    }
   }
  },
  {
   "cell_type": "code",
   "execution_count": 3,
   "outputs": [],
   "source": [
    "class NDIDatasetContrastiveLearning(Dataset):\n",
    "    def __init__(self):\n",
    "        super(NDIDatasetContrastiveLearning, self).__init__()\n",
    "        original_images = list(Path(ORIGINAL_IMAGE).glob('*.jpg'))\n",
    "        origins, targets = [], []\n",
    "        to_tensor_func = torchvision.transforms.ToTensor()\n",
    "        for original_image in original_images:\n",
    "            origins.append(to_tensor_func(Image.open(str(original_image))))\n",
    "            targets.append(to_tensor_func(Image.open(str(Path.joinpath(Path(TARGET_IMAGE), original_image.name.split('_')[0] + '.jpg')))))\n",
    "        random_index = np.random.permutation(len(origins))\n",
    "        self.origins, self.targets = [], []\n",
    "        for index in random_index:\n",
    "            self.origins.append(origins[index])\n",
    "            self.targets.append(targets[index])\n",
    "\n",
    "    def __getitem__(self, idx):\n",
    "        return self.origins[idx], self.targets[idx]\n",
    "\n",
    "    def __len__(self):\n",
    "        return len(self.origins)"
   ],
   "metadata": {
    "collapsed": false,
    "pycharm": {
     "name": "#%%\n"
    }
   }
  },
  {
   "cell_type": "code",
   "execution_count": 25,
   "outputs": [],
   "source": [
    "from moco_model import MoCo\n",
    "\n",
    "\n",
    "model = MoCo(torchvision.models.resnet18, dim=128, K=48)\n",
    "device = torch.device('cuda:0')\n",
    "criterion = nn.CrossEntropyLoss().cuda(device)\n",
    "optimizer = torch.optim.SGD(model.parameters(), lr=0.005, momentum=0.9, weight_decay=1e-4)"
   ],
   "metadata": {
    "collapsed": false,
    "pycharm": {
     "name": "#%%\n"
    }
   }
  },
  {
   "cell_type": "code",
   "execution_count": 11,
   "outputs": [
    {
     "name": "stdout",
     "output_type": "stream",
     "text": [
      "----------------------------------------------------------------\n",
      "        Layer (type)               Output Shape         Param #\n",
      "================================================================\n",
      "            Conv2d-1         [-1, 64, 100, 100]           3,136\n",
      "       BatchNorm2d-2         [-1, 64, 100, 100]             128\n",
      "              ReLU-3         [-1, 64, 100, 100]               0\n",
      "         MaxPool2d-4           [-1, 64, 50, 50]               0\n",
      "            Conv2d-5           [-1, 64, 50, 50]          36,864\n",
      "       BatchNorm2d-6           [-1, 64, 50, 50]             128\n",
      "              ReLU-7           [-1, 64, 50, 50]               0\n",
      "            Conv2d-8           [-1, 64, 50, 50]          36,864\n",
      "       BatchNorm2d-9           [-1, 64, 50, 50]             128\n",
      "             ReLU-10           [-1, 64, 50, 50]               0\n",
      "       BasicBlock-11           [-1, 64, 50, 50]               0\n",
      "           Conv2d-12           [-1, 64, 50, 50]          36,864\n",
      "      BatchNorm2d-13           [-1, 64, 50, 50]             128\n",
      "             ReLU-14           [-1, 64, 50, 50]               0\n",
      "           Conv2d-15           [-1, 64, 50, 50]          36,864\n",
      "      BatchNorm2d-16           [-1, 64, 50, 50]             128\n",
      "             ReLU-17           [-1, 64, 50, 50]               0\n",
      "       BasicBlock-18           [-1, 64, 50, 50]               0\n",
      "           Conv2d-19          [-1, 128, 25, 25]          73,728\n",
      "      BatchNorm2d-20          [-1, 128, 25, 25]             256\n",
      "             ReLU-21          [-1, 128, 25, 25]               0\n",
      "           Conv2d-22          [-1, 128, 25, 25]         147,456\n",
      "      BatchNorm2d-23          [-1, 128, 25, 25]             256\n",
      "           Conv2d-24          [-1, 128, 25, 25]           8,192\n",
      "      BatchNorm2d-25          [-1, 128, 25, 25]             256\n",
      "             ReLU-26          [-1, 128, 25, 25]               0\n",
      "       BasicBlock-27          [-1, 128, 25, 25]               0\n",
      "           Conv2d-28          [-1, 128, 25, 25]         147,456\n",
      "      BatchNorm2d-29          [-1, 128, 25, 25]             256\n",
      "             ReLU-30          [-1, 128, 25, 25]               0\n",
      "           Conv2d-31          [-1, 128, 25, 25]         147,456\n",
      "      BatchNorm2d-32          [-1, 128, 25, 25]             256\n",
      "             ReLU-33          [-1, 128, 25, 25]               0\n",
      "       BasicBlock-34          [-1, 128, 25, 25]               0\n",
      "           Conv2d-35          [-1, 256, 13, 13]         294,912\n",
      "      BatchNorm2d-36          [-1, 256, 13, 13]             512\n",
      "             ReLU-37          [-1, 256, 13, 13]               0\n",
      "           Conv2d-38          [-1, 256, 13, 13]         589,824\n",
      "      BatchNorm2d-39          [-1, 256, 13, 13]             512\n",
      "           Conv2d-40          [-1, 256, 13, 13]          32,768\n",
      "      BatchNorm2d-41          [-1, 256, 13, 13]             512\n",
      "             ReLU-42          [-1, 256, 13, 13]               0\n",
      "       BasicBlock-43          [-1, 256, 13, 13]               0\n",
      "           Conv2d-44          [-1, 256, 13, 13]         589,824\n",
      "      BatchNorm2d-45          [-1, 256, 13, 13]             512\n",
      "             ReLU-46          [-1, 256, 13, 13]               0\n",
      "           Conv2d-47          [-1, 256, 13, 13]         589,824\n",
      "      BatchNorm2d-48          [-1, 256, 13, 13]             512\n",
      "             ReLU-49          [-1, 256, 13, 13]               0\n",
      "       BasicBlock-50          [-1, 256, 13, 13]               0\n",
      "           Conv2d-51            [-1, 512, 7, 7]       1,179,648\n",
      "      BatchNorm2d-52            [-1, 512, 7, 7]           1,024\n",
      "             ReLU-53            [-1, 512, 7, 7]               0\n",
      "           Conv2d-54            [-1, 512, 7, 7]       2,359,296\n",
      "      BatchNorm2d-55            [-1, 512, 7, 7]           1,024\n",
      "           Conv2d-56            [-1, 512, 7, 7]         131,072\n",
      "      BatchNorm2d-57            [-1, 512, 7, 7]           1,024\n",
      "             ReLU-58            [-1, 512, 7, 7]               0\n",
      "       BasicBlock-59            [-1, 512, 7, 7]               0\n",
      "           Conv2d-60            [-1, 512, 7, 7]       2,359,296\n",
      "      BatchNorm2d-61            [-1, 512, 7, 7]           1,024\n",
      "             ReLU-62            [-1, 512, 7, 7]               0\n",
      "           Conv2d-63            [-1, 512, 7, 7]       2,359,296\n",
      "      BatchNorm2d-64            [-1, 512, 7, 7]           1,024\n",
      "             ReLU-65            [-1, 512, 7, 7]               0\n",
      "       BasicBlock-66            [-1, 512, 7, 7]               0\n",
      "AdaptiveAvgPool2d-67            [-1, 512, 1, 1]               0\n",
      "           Linear-68                  [-1, 512]         262,656\n",
      "             ReLU-69                  [-1, 512]               0\n",
      "           Linear-70                  [-1, 128]          65,664\n",
      "           ResNet-71                  [-1, 128]               0\n",
      "           Conv2d-72         [-1, 64, 100, 100]           3,136\n",
      "      BatchNorm2d-73         [-1, 64, 100, 100]             128\n",
      "             ReLU-74         [-1, 64, 100, 100]               0\n",
      "        MaxPool2d-75           [-1, 64, 50, 50]               0\n",
      "           Conv2d-76           [-1, 64, 50, 50]          36,864\n",
      "      BatchNorm2d-77           [-1, 64, 50, 50]             128\n",
      "             ReLU-78           [-1, 64, 50, 50]               0\n",
      "           Conv2d-79           [-1, 64, 50, 50]          36,864\n",
      "      BatchNorm2d-80           [-1, 64, 50, 50]             128\n",
      "             ReLU-81           [-1, 64, 50, 50]               0\n",
      "       BasicBlock-82           [-1, 64, 50, 50]               0\n",
      "           Conv2d-83           [-1, 64, 50, 50]          36,864\n",
      "      BatchNorm2d-84           [-1, 64, 50, 50]             128\n",
      "             ReLU-85           [-1, 64, 50, 50]               0\n",
      "           Conv2d-86           [-1, 64, 50, 50]          36,864\n",
      "      BatchNorm2d-87           [-1, 64, 50, 50]             128\n",
      "             ReLU-88           [-1, 64, 50, 50]               0\n",
      "       BasicBlock-89           [-1, 64, 50, 50]               0\n",
      "           Conv2d-90          [-1, 128, 25, 25]          73,728\n",
      "      BatchNorm2d-91          [-1, 128, 25, 25]             256\n",
      "             ReLU-92          [-1, 128, 25, 25]               0\n",
      "           Conv2d-93          [-1, 128, 25, 25]         147,456\n",
      "      BatchNorm2d-94          [-1, 128, 25, 25]             256\n",
      "           Conv2d-95          [-1, 128, 25, 25]           8,192\n",
      "      BatchNorm2d-96          [-1, 128, 25, 25]             256\n",
      "             ReLU-97          [-1, 128, 25, 25]               0\n",
      "       BasicBlock-98          [-1, 128, 25, 25]               0\n",
      "           Conv2d-99          [-1, 128, 25, 25]         147,456\n",
      "     BatchNorm2d-100          [-1, 128, 25, 25]             256\n",
      "            ReLU-101          [-1, 128, 25, 25]               0\n",
      "          Conv2d-102          [-1, 128, 25, 25]         147,456\n",
      "     BatchNorm2d-103          [-1, 128, 25, 25]             256\n",
      "            ReLU-104          [-1, 128, 25, 25]               0\n",
      "      BasicBlock-105          [-1, 128, 25, 25]               0\n",
      "          Conv2d-106          [-1, 256, 13, 13]         294,912\n",
      "     BatchNorm2d-107          [-1, 256, 13, 13]             512\n",
      "            ReLU-108          [-1, 256, 13, 13]               0\n",
      "          Conv2d-109          [-1, 256, 13, 13]         589,824\n",
      "     BatchNorm2d-110          [-1, 256, 13, 13]             512\n",
      "          Conv2d-111          [-1, 256, 13, 13]          32,768\n",
      "     BatchNorm2d-112          [-1, 256, 13, 13]             512\n",
      "            ReLU-113          [-1, 256, 13, 13]               0\n",
      "      BasicBlock-114          [-1, 256, 13, 13]               0\n",
      "          Conv2d-115          [-1, 256, 13, 13]         589,824\n",
      "     BatchNorm2d-116          [-1, 256, 13, 13]             512\n",
      "            ReLU-117          [-1, 256, 13, 13]               0\n",
      "          Conv2d-118          [-1, 256, 13, 13]         589,824\n",
      "     BatchNorm2d-119          [-1, 256, 13, 13]             512\n",
      "            ReLU-120          [-1, 256, 13, 13]               0\n",
      "      BasicBlock-121          [-1, 256, 13, 13]               0\n",
      "          Conv2d-122            [-1, 512, 7, 7]       1,179,648\n",
      "     BatchNorm2d-123            [-1, 512, 7, 7]           1,024\n",
      "            ReLU-124            [-1, 512, 7, 7]               0\n",
      "          Conv2d-125            [-1, 512, 7, 7]       2,359,296\n",
      "     BatchNorm2d-126            [-1, 512, 7, 7]           1,024\n",
      "          Conv2d-127            [-1, 512, 7, 7]         131,072\n",
      "     BatchNorm2d-128            [-1, 512, 7, 7]           1,024\n",
      "            ReLU-129            [-1, 512, 7, 7]               0\n",
      "      BasicBlock-130            [-1, 512, 7, 7]               0\n",
      "          Conv2d-131            [-1, 512, 7, 7]       2,359,296\n",
      "     BatchNorm2d-132            [-1, 512, 7, 7]           1,024\n",
      "            ReLU-133            [-1, 512, 7, 7]               0\n",
      "          Conv2d-134            [-1, 512, 7, 7]       2,359,296\n",
      "     BatchNorm2d-135            [-1, 512, 7, 7]           1,024\n",
      "            ReLU-136            [-1, 512, 7, 7]               0\n",
      "      BasicBlock-137            [-1, 512, 7, 7]               0\n",
      "AdaptiveAvgPool2d-138            [-1, 512, 1, 1]               0\n",
      "          Linear-139                  [-1, 512]         262,656\n",
      "            ReLU-140                  [-1, 512]               0\n",
      "          Linear-141                  [-1, 128]          65,664\n",
      "          ResNet-142                  [-1, 128]               0\n",
      "================================================================\n",
      "Total params: 22,997,120\n",
      "Trainable params: 11,498,560\n",
      "Non-trainable params: 11,498,560\n",
      "----------------------------------------------------------------\n",
      "Input size (MB): 6103.52\n",
      "Forward/backward pass size (MB): 102.16\n",
      "Params size (MB): 87.73\n",
      "Estimated Total Size (MB): 6293.41\n",
      "----------------------------------------------------------------\n"
     ]
    }
   ],
   "source": [
    "# torchsummary.summary(model, input_size=[(1, 200, 200), (1, 200, 200)], batch_size=-1, device='cpu')"
   ],
   "metadata": {
    "collapsed": false,
    "pycharm": {
     "name": "#%%\n"
    }
   }
  },
  {
   "cell_type": "code",
   "execution_count": 26,
   "outputs": [],
   "source": [
    "def train_moco(net, criterion, optimizer, epochs, device):\n",
    "    train_iter = DataLoader(NDIDatasetContrastiveLearning(), batch_size=8, shuffle=True, drop_last=True)\n",
    "    model.cuda(device)\n",
    "    model.train()\n",
    "    for epoch in range(epochs):\n",
    "        total_loss = 0\n",
    "        for origin, target in train_iter:\n",
    "            origin, target = origin.cuda(device), target.cuda(device)\n",
    "            output, labels = net(origin, target)\n",
    "            loss = criterion(output, labels)\n",
    "            total_loss += loss.item()\n",
    "            optimizer.zero_grad()\n",
    "            loss.backward()\n",
    "            optimizer.step()\n",
    "        print(f'Epoch {epoch + 1}, Loss {total_loss / len(train_iter)}')"
   ],
   "metadata": {
    "collapsed": false,
    "pycharm": {
     "name": "#%%\n"
    }
   }
  },
  {
   "cell_type": "code",
   "execution_count": 27,
   "outputs": [
    {
     "name": "stdout",
     "output_type": "stream",
     "text": [
      "Epoch 1, Loss 2.5646501675388813\n",
      "Epoch 2, Loss 3.928589423497518\n",
      "Epoch 3, Loss 3.739701747894287\n",
      "Epoch 4, Loss 3.6790209213892617\n",
      "Epoch 5, Loss 3.480889598528544\n",
      "Epoch 6, Loss 3.2125312089920044\n",
      "Epoch 7, Loss 3.0719483296076455\n",
      "Epoch 8, Loss 2.9447721242904663\n",
      "Epoch 9, Loss 2.9828642209370932\n",
      "Epoch 10, Loss 2.783868392308553\n",
      "Epoch 11, Loss 2.750709295272827\n",
      "Epoch 12, Loss 2.775490125020345\n",
      "Epoch 13, Loss 2.6246398289998374\n",
      "Epoch 14, Loss 2.4811015526453652\n",
      "Epoch 15, Loss 2.318331241607666\n",
      "Epoch 16, Loss 2.3718751668930054\n",
      "Epoch 17, Loss 2.2285926938056946\n",
      "Epoch 18, Loss 2.08930104970932\n",
      "Epoch 19, Loss 2.0435697038968406\n",
      "Epoch 20, Loss 1.992450972398122\n",
      "Epoch 21, Loss 2.0667046705881753\n",
      "Epoch 22, Loss 1.8727173407872517\n",
      "Epoch 23, Loss 1.8862409790356953\n",
      "Epoch 24, Loss 1.8889602422714233\n",
      "Epoch 25, Loss 1.77629421154658\n",
      "Epoch 26, Loss 1.804925302664439\n",
      "Epoch 27, Loss 1.809878985087077\n",
      "Epoch 28, Loss 1.7513732711474101\n",
      "Epoch 29, Loss 1.6811985969543457\n",
      "Epoch 30, Loss 1.6697691082954407\n",
      "Epoch 31, Loss 1.6303537289301555\n",
      "Epoch 32, Loss 1.6349947452545166\n",
      "Epoch 33, Loss 1.7227647105852764\n",
      "Epoch 34, Loss 1.515846053759257\n",
      "Epoch 35, Loss 1.5817309220631917\n",
      "Epoch 36, Loss 1.5261704921722412\n",
      "Epoch 37, Loss 1.5380258758862813\n",
      "Epoch 38, Loss 1.4547548294067383\n",
      "Epoch 39, Loss 1.4677550594011943\n",
      "Epoch 40, Loss 1.3762510418891907\n",
      "Epoch 41, Loss 1.3873781164487202\n",
      "Epoch 42, Loss 1.396557867527008\n",
      "Epoch 43, Loss 1.3546055157979329\n",
      "Epoch 44, Loss 1.319148063659668\n",
      "Epoch 45, Loss 1.2810560961564381\n",
      "Epoch 46, Loss 1.3152803182601929\n",
      "Epoch 47, Loss 1.3060035109519958\n",
      "Epoch 48, Loss 1.4209710160891216\n",
      "Epoch 49, Loss 1.1802973747253418\n",
      "Epoch 50, Loss 1.2428323825200398\n"
     ]
    }
   ],
   "source": [
    "train_moco(model, criterion, optimizer, 50, device)"
   ],
   "metadata": {
    "collapsed": false,
    "pycharm": {
     "name": "#%%\n"
    }
   }
  },
  {
   "cell_type": "code",
   "execution_count": 7,
   "outputs": [],
   "source": [
    "def image_pair_matching(net, original_image, matching_image):\n",
    "    net.cpu()\n",
    "    net.eval()\n",
    "    q = net.encoder_q(original_image)\n",
    "    q = f.normalize(q, dim=1)\n",
    "    k = net.encoder_k(matching_image)\n",
    "    k = f.normalize(k, dim=1)\n",
    "    logits = torch.mm(q, k.T)\n",
    "    return logits"
   ],
   "metadata": {
    "collapsed": false,
    "pycharm": {
     "name": "#%%\n"
    }
   }
  },
  {
   "cell_type": "code",
   "execution_count": 8,
   "outputs": [
    {
     "data": {
      "text/plain": "tensor([[0.1602, 0.1168, 0.1395, 0.1161, 0.2010, 0.1194, 0.0940, 0.0536, 0.1289,\n         0.1064, 0.1281, 0.1714, 0.1407, 0.1310, 0.1047, 0.1310, 0.1194, 0.2436,\n         0.1281, 0.1409, 0.3409, 0.0951, 0.1625, 0.1391, 0.1456, 0.1388, 0.1216,\n         0.2257, 0.1398, 0.2367, 0.1064, 0.2324, 0.1189, 0.1511, 0.1047, 0.1310,\n         0.1395, 0.0883, 0.0883, 0.1884, 0.1624]], grad_fn=<MmBackward>)"
     },
     "execution_count": 8,
     "metadata": {},
     "output_type": "execute_result"
    }
   ],
   "source": [
    "# Try to take the size of queue less than K, success\n",
    "\n",
    "model.cpu()\n",
    "original_images = list(Path(ORIGINAL_IMAGE).glob('*.jpg'))\n",
    "target_images = list(Path(TARGET_IMAGE).glob('*.jpg'))\n",
    "to_tensor_func = torchvision.transforms.ToTensor()\n",
    "original_image = np.random.choice(original_images)\n",
    "original_tensor = to_tensor_func(Image.open(str(original_image))).unsqueeze(0)\n",
    "target_images_candidates = np.random.choice(target_images, 40)\n",
    "target_tensor = []\n",
    "for i in range(20):\n",
    "    target_tensor.append(to_tensor_func(Image.open(str(target_images_candidates[i]))).unsqueeze(0))\n",
    "target_tensor.append(to_tensor_func(Image.open(str(Path.joinpath(Path(TARGET_IMAGE), original_image.name.split('_')[0] + '.jpg')))).unsqueeze(0))\n",
    "for i in range(20, 40):\n",
    "    target_tensor.append(to_tensor_func(Image.open(str(target_images_candidates[i]))).unsqueeze(0))\n",
    "target_tensor = torch.cat(target_tensor, dim=0)\n",
    "image_pair_matching(model, original_tensor, target_tensor)"
   ],
   "metadata": {
    "collapsed": false,
    "pycharm": {
     "name": "#%%\n"
    }
   }
  },
  {
   "cell_type": "code",
   "execution_count": 22,
   "outputs": [
    {
     "name": "stdout",
     "output_type": "stream",
     "text": [
      "11\n"
     ]
    }
   ],
   "source": [
    "# Try to take all matching images\n",
    "\n",
    "model.cpu()\n",
    "original_images = list(Path(ORIGINAL_IMAGE).glob('*.jpg'))\n",
    "target_images = list(Path(TARGET_IMAGE).glob('*.jpg'))\n",
    "to_tensor_func = torchvision.transforms.ToTensor()\n",
    "# original_image = np.random.choice(original_images)\n",
    "original_image = Path.joinpath(Path(ORIGINAL_IMAGE), '11_z2-z_37-324-1.jpg')\n",
    "# original_tensor = to_tensor_func(Image.open(str(original_image))).unsqueeze(0)\n",
    "target_tensor = []\n",
    "for i in range(1, 55):\n",
    "    target_tensor.append(to_tensor_func(Image.open(str(Path.joinpath(Path(TARGET_IMAGE), f'{i}.jpg')))).unsqueeze(0))\n",
    "target_tensor = torch.cat(target_tensor, dim=0)\n",
    "print(str(original_image.name).split('_')[0])"
   ],
   "metadata": {
    "collapsed": false,
    "pycharm": {
     "name": "#%%\n"
    }
   }
  },
  {
   "cell_type": "code",
   "execution_count": 23,
   "outputs": [
    {
     "name": "stdout",
     "output_type": "stream",
     "text": [
      "tensor([[ 0.1920,  0.1278,  0.1921,  0.2050,  0.0899,  0.0436,  0.0808,  0.1061,\n",
      "          0.0628,  0.0947,  0.3432,  0.1393,  0.0484,  0.0799,  0.2761,  0.0530,\n",
      "          0.1924,  0.1385,  0.0994,  0.1848,  0.1390,  0.1348,  0.1220,  0.0869,\n",
      "          0.1555,  0.1555,  0.1115,  0.0206, -0.0127,  0.1123,  0.1606,  0.1342,\n",
      "          0.1079,  0.1792,  0.1006,  0.1422,  0.0881,  0.0963,  0.1304,  0.1509,\n",
      "          0.0807,  0.0987,  0.0826,  0.0631,  0.0564,  0.1104,  0.1550,  0.1939,\n",
      "          0.1384,  0.1638,  0.1184,  0.0410,  0.0410,  0.0894]],\n",
      "       grad_fn=<MmBackward>)\n",
      "tensor(10)\n"
     ]
    }
   ],
   "source": [
    "logits = image_pair_matching(model, original_tensor, target_tensor)\n",
    "print(logits)\n",
    "print(torch.argmax(logits))"
   ],
   "metadata": {
    "collapsed": false,
    "pycharm": {
     "name": "#%%\n"
    }
   }
  },
  {
   "cell_type": "code",
   "execution_count": null,
   "outputs": [],
   "source": [],
   "metadata": {
    "collapsed": false,
    "pycharm": {
     "name": "#%%\n"
    }
   }
  }
 ],
 "metadata": {
  "kernelspec": {
   "display_name": "Python 3",
   "language": "python",
   "name": "python3"
  },
  "language_info": {
   "codemirror_mode": {
    "name": "ipython",
    "version": 2
   },
   "file_extension": ".py",
   "mimetype": "text/x-python",
   "name": "python",
   "nbconvert_exporter": "python",
   "pygments_lexer": "ipython2",
   "version": "2.7.6"
  }
 },
 "nbformat": 4,
 "nbformat_minor": 0
}