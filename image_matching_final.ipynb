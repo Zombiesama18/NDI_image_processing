{
 "cells": [
  {
   "cell_type": "code",
   "execution_count": 1,
   "metadata": {
    "collapsed": true,
    "pycharm": {
     "name": "#%%\n"
    }
   },
   "outputs": [],
   "source": [
    "import torch\n",
    "import torch.nn as nn\n",
    "from torch.nn import functional as f\n",
    "from pathlib import Path\n",
    "import numpy as np\n",
    "import torchvision\n",
    "from torch.utils.data import DataLoader, Dataset\n",
    "import os\n",
    "from torchsummary import torchsummary\n",
    "from PIL import Image"
   ]
  },
  {
   "cell_type": "code",
   "execution_count": 2,
   "outputs": [],
   "source": [
    "# Local\n",
    "\n",
    "ORIGINAL_IMAGE = 'E:/dataSets/NDI_images/20220725/20220725/Observed_Crop_200x200pix'\n",
    "TARGET_IMAGE = 'E:/dataSets/NDI_images/20220725/20220725/Calculated_200x200/grayscale'"
   ],
   "metadata": {
    "collapsed": false,
    "pycharm": {
     "name": "#%%\n"
    }
   }
  },
  {
   "cell_type": "code",
   "execution_count": null,
   "outputs": [],
   "source": [
    "# On Server\n",
    "\n",
    "ORIGINAL_IMAGE = '/import/mqhome/duanct/dataSets/NDI_images/20220725/20220725/Observed_Crop_200x200pix'\n",
    "TARGET_IMAGE = '/import/mqhome/duanct/dataSets/NDI_images/20220725/20220725/Calculated_200x200/grayscale'"
   ],
   "metadata": {
    "collapsed": false,
    "pycharm": {
     "name": "#%%\n"
    }
   }
  },
  {
   "cell_type": "code",
   "execution_count": 9,
   "outputs": [],
   "source": [
    "class NDIDatasetContrastiveLearning(Dataset):\n",
    "    def __init__(self):\n",
    "        super(NDIDatasetContrastiveLearning, self).__init__()\n",
    "        original_images = list(Path(ORIGINAL_IMAGE).glob('*.jpg'))\n",
    "        origins, targets = [], []\n",
    "        to_tensor_func = torchvision.transforms.ToTensor()\n",
    "        for original_image in original_images:\n",
    "            origins.append(to_tensor_func(Image.open(str(original_image))))\n",
    "            targets.append(to_tensor_func(Image.open(str(Path.joinpath(Path(TARGET_IMAGE), original_image.name.split('_')[0] + '.jpg')))))\n",
    "        random_index = np.random.permutation(len(origins))\n",
    "        self.origins, self.targets = [], []\n",
    "        for index in random_index:\n",
    "            self.origins.append(origins[index])\n",
    "            self.targets.append(targets[index])\n",
    "\n",
    "    def __getitem__(self, idx):\n",
    "        return self.origins[idx], self.targets[idx]\n",
    "\n",
    "    def __len__(self):\n",
    "        return len(self.origins)"
   ],
   "metadata": {
    "collapsed": false,
    "pycharm": {
     "name": "#%%\n"
    }
   }
  },
  {
   "cell_type": "code",
   "execution_count": 14,
   "outputs": [],
   "source": [
    "from moco_model import MoCo\n",
    "\n",
    "\n",
    "model = MoCo(torchvision.models.resnet18, dim=128, K=48)\n",
    "device = torch.device('cuda:0')\n",
    "criterion = nn.CrossEntropyLoss().cuda(device)\n",
    "optimizer = torch.optim.SGD(model.parameters(), lr=0.005, momentum=0.9, weight_decay=1e-4)"
   ],
   "metadata": {
    "collapsed": false,
    "pycharm": {
     "name": "#%%\n"
    }
   }
  },
  {
   "cell_type": "code",
   "execution_count": 11,
   "outputs": [
    {
     "name": "stdout",
     "output_type": "stream",
     "text": [
      "----------------------------------------------------------------\n",
      "        Layer (type)               Output Shape         Param #\n",
      "================================================================\n",
      "            Conv2d-1         [-1, 64, 100, 100]           3,136\n",
      "       BatchNorm2d-2         [-1, 64, 100, 100]             128\n",
      "              ReLU-3         [-1, 64, 100, 100]               0\n",
      "         MaxPool2d-4           [-1, 64, 50, 50]               0\n",
      "            Conv2d-5           [-1, 64, 50, 50]          36,864\n",
      "       BatchNorm2d-6           [-1, 64, 50, 50]             128\n",
      "              ReLU-7           [-1, 64, 50, 50]               0\n",
      "            Conv2d-8           [-1, 64, 50, 50]          36,864\n",
      "       BatchNorm2d-9           [-1, 64, 50, 50]             128\n",
      "             ReLU-10           [-1, 64, 50, 50]               0\n",
      "       BasicBlock-11           [-1, 64, 50, 50]               0\n",
      "           Conv2d-12           [-1, 64, 50, 50]          36,864\n",
      "      BatchNorm2d-13           [-1, 64, 50, 50]             128\n",
      "             ReLU-14           [-1, 64, 50, 50]               0\n",
      "           Conv2d-15           [-1, 64, 50, 50]          36,864\n",
      "      BatchNorm2d-16           [-1, 64, 50, 50]             128\n",
      "             ReLU-17           [-1, 64, 50, 50]               0\n",
      "       BasicBlock-18           [-1, 64, 50, 50]               0\n",
      "           Conv2d-19          [-1, 128, 25, 25]          73,728\n",
      "      BatchNorm2d-20          [-1, 128, 25, 25]             256\n",
      "             ReLU-21          [-1, 128, 25, 25]               0\n",
      "           Conv2d-22          [-1, 128, 25, 25]         147,456\n",
      "      BatchNorm2d-23          [-1, 128, 25, 25]             256\n",
      "           Conv2d-24          [-1, 128, 25, 25]           8,192\n",
      "      BatchNorm2d-25          [-1, 128, 25, 25]             256\n",
      "             ReLU-26          [-1, 128, 25, 25]               0\n",
      "       BasicBlock-27          [-1, 128, 25, 25]               0\n",
      "           Conv2d-28          [-1, 128, 25, 25]         147,456\n",
      "      BatchNorm2d-29          [-1, 128, 25, 25]             256\n",
      "             ReLU-30          [-1, 128, 25, 25]               0\n",
      "           Conv2d-31          [-1, 128, 25, 25]         147,456\n",
      "      BatchNorm2d-32          [-1, 128, 25, 25]             256\n",
      "             ReLU-33          [-1, 128, 25, 25]               0\n",
      "       BasicBlock-34          [-1, 128, 25, 25]               0\n",
      "           Conv2d-35          [-1, 256, 13, 13]         294,912\n",
      "      BatchNorm2d-36          [-1, 256, 13, 13]             512\n",
      "             ReLU-37          [-1, 256, 13, 13]               0\n",
      "           Conv2d-38          [-1, 256, 13, 13]         589,824\n",
      "      BatchNorm2d-39          [-1, 256, 13, 13]             512\n",
      "           Conv2d-40          [-1, 256, 13, 13]          32,768\n",
      "      BatchNorm2d-41          [-1, 256, 13, 13]             512\n",
      "             ReLU-42          [-1, 256, 13, 13]               0\n",
      "       BasicBlock-43          [-1, 256, 13, 13]               0\n",
      "           Conv2d-44          [-1, 256, 13, 13]         589,824\n",
      "      BatchNorm2d-45          [-1, 256, 13, 13]             512\n",
      "             ReLU-46          [-1, 256, 13, 13]               0\n",
      "           Conv2d-47          [-1, 256, 13, 13]         589,824\n",
      "      BatchNorm2d-48          [-1, 256, 13, 13]             512\n",
      "             ReLU-49          [-1, 256, 13, 13]               0\n",
      "       BasicBlock-50          [-1, 256, 13, 13]               0\n",
      "           Conv2d-51            [-1, 512, 7, 7]       1,179,648\n",
      "      BatchNorm2d-52            [-1, 512, 7, 7]           1,024\n",
      "             ReLU-53            [-1, 512, 7, 7]               0\n",
      "           Conv2d-54            [-1, 512, 7, 7]       2,359,296\n",
      "      BatchNorm2d-55            [-1, 512, 7, 7]           1,024\n",
      "           Conv2d-56            [-1, 512, 7, 7]         131,072\n",
      "      BatchNorm2d-57            [-1, 512, 7, 7]           1,024\n",
      "             ReLU-58            [-1, 512, 7, 7]               0\n",
      "       BasicBlock-59            [-1, 512, 7, 7]               0\n",
      "           Conv2d-60            [-1, 512, 7, 7]       2,359,296\n",
      "      BatchNorm2d-61            [-1, 512, 7, 7]           1,024\n",
      "             ReLU-62            [-1, 512, 7, 7]               0\n",
      "           Conv2d-63            [-1, 512, 7, 7]       2,359,296\n",
      "      BatchNorm2d-64            [-1, 512, 7, 7]           1,024\n",
      "             ReLU-65            [-1, 512, 7, 7]               0\n",
      "       BasicBlock-66            [-1, 512, 7, 7]               0\n",
      "AdaptiveAvgPool2d-67            [-1, 512, 1, 1]               0\n",
      "           Linear-68                  [-1, 512]         262,656\n",
      "             ReLU-69                  [-1, 512]               0\n",
      "           Linear-70                  [-1, 128]          65,664\n",
      "           ResNet-71                  [-1, 128]               0\n",
      "           Conv2d-72         [-1, 64, 100, 100]           3,136\n",
      "      BatchNorm2d-73         [-1, 64, 100, 100]             128\n",
      "             ReLU-74         [-1, 64, 100, 100]               0\n",
      "        MaxPool2d-75           [-1, 64, 50, 50]               0\n",
      "           Conv2d-76           [-1, 64, 50, 50]          36,864\n",
      "      BatchNorm2d-77           [-1, 64, 50, 50]             128\n",
      "             ReLU-78           [-1, 64, 50, 50]               0\n",
      "           Conv2d-79           [-1, 64, 50, 50]          36,864\n",
      "      BatchNorm2d-80           [-1, 64, 50, 50]             128\n",
      "             ReLU-81           [-1, 64, 50, 50]               0\n",
      "       BasicBlock-82           [-1, 64, 50, 50]               0\n",
      "           Conv2d-83           [-1, 64, 50, 50]          36,864\n",
      "      BatchNorm2d-84           [-1, 64, 50, 50]             128\n",
      "             ReLU-85           [-1, 64, 50, 50]               0\n",
      "           Conv2d-86           [-1, 64, 50, 50]          36,864\n",
      "      BatchNorm2d-87           [-1, 64, 50, 50]             128\n",
      "             ReLU-88           [-1, 64, 50, 50]               0\n",
      "       BasicBlock-89           [-1, 64, 50, 50]               0\n",
      "           Conv2d-90          [-1, 128, 25, 25]          73,728\n",
      "      BatchNorm2d-91          [-1, 128, 25, 25]             256\n",
      "             ReLU-92          [-1, 128, 25, 25]               0\n",
      "           Conv2d-93          [-1, 128, 25, 25]         147,456\n",
      "      BatchNorm2d-94          [-1, 128, 25, 25]             256\n",
      "           Conv2d-95          [-1, 128, 25, 25]           8,192\n",
      "      BatchNorm2d-96          [-1, 128, 25, 25]             256\n",
      "             ReLU-97          [-1, 128, 25, 25]               0\n",
      "       BasicBlock-98          [-1, 128, 25, 25]               0\n",
      "           Conv2d-99          [-1, 128, 25, 25]         147,456\n",
      "     BatchNorm2d-100          [-1, 128, 25, 25]             256\n",
      "            ReLU-101          [-1, 128, 25, 25]               0\n",
      "          Conv2d-102          [-1, 128, 25, 25]         147,456\n",
      "     BatchNorm2d-103          [-1, 128, 25, 25]             256\n",
      "            ReLU-104          [-1, 128, 25, 25]               0\n",
      "      BasicBlock-105          [-1, 128, 25, 25]               0\n",
      "          Conv2d-106          [-1, 256, 13, 13]         294,912\n",
      "     BatchNorm2d-107          [-1, 256, 13, 13]             512\n",
      "            ReLU-108          [-1, 256, 13, 13]               0\n",
      "          Conv2d-109          [-1, 256, 13, 13]         589,824\n",
      "     BatchNorm2d-110          [-1, 256, 13, 13]             512\n",
      "          Conv2d-111          [-1, 256, 13, 13]          32,768\n",
      "     BatchNorm2d-112          [-1, 256, 13, 13]             512\n",
      "            ReLU-113          [-1, 256, 13, 13]               0\n",
      "      BasicBlock-114          [-1, 256, 13, 13]               0\n",
      "          Conv2d-115          [-1, 256, 13, 13]         589,824\n",
      "     BatchNorm2d-116          [-1, 256, 13, 13]             512\n",
      "            ReLU-117          [-1, 256, 13, 13]               0\n",
      "          Conv2d-118          [-1, 256, 13, 13]         589,824\n",
      "     BatchNorm2d-119          [-1, 256, 13, 13]             512\n",
      "            ReLU-120          [-1, 256, 13, 13]               0\n",
      "      BasicBlock-121          [-1, 256, 13, 13]               0\n",
      "          Conv2d-122            [-1, 512, 7, 7]       1,179,648\n",
      "     BatchNorm2d-123            [-1, 512, 7, 7]           1,024\n",
      "            ReLU-124            [-1, 512, 7, 7]               0\n",
      "          Conv2d-125            [-1, 512, 7, 7]       2,359,296\n",
      "     BatchNorm2d-126            [-1, 512, 7, 7]           1,024\n",
      "          Conv2d-127            [-1, 512, 7, 7]         131,072\n",
      "     BatchNorm2d-128            [-1, 512, 7, 7]           1,024\n",
      "            ReLU-129            [-1, 512, 7, 7]               0\n",
      "      BasicBlock-130            [-1, 512, 7, 7]               0\n",
      "          Conv2d-131            [-1, 512, 7, 7]       2,359,296\n",
      "     BatchNorm2d-132            [-1, 512, 7, 7]           1,024\n",
      "            ReLU-133            [-1, 512, 7, 7]               0\n",
      "          Conv2d-134            [-1, 512, 7, 7]       2,359,296\n",
      "     BatchNorm2d-135            [-1, 512, 7, 7]           1,024\n",
      "            ReLU-136            [-1, 512, 7, 7]               0\n",
      "      BasicBlock-137            [-1, 512, 7, 7]               0\n",
      "AdaptiveAvgPool2d-138            [-1, 512, 1, 1]               0\n",
      "          Linear-139                  [-1, 512]         262,656\n",
      "            ReLU-140                  [-1, 512]               0\n",
      "          Linear-141                  [-1, 128]          65,664\n",
      "          ResNet-142                  [-1, 128]               0\n",
      "================================================================\n",
      "Total params: 22,997,120\n",
      "Trainable params: 11,498,560\n",
      "Non-trainable params: 11,498,560\n",
      "----------------------------------------------------------------\n",
      "Input size (MB): 6103.52\n",
      "Forward/backward pass size (MB): 102.16\n",
      "Params size (MB): 87.73\n",
      "Estimated Total Size (MB): 6293.41\n",
      "----------------------------------------------------------------\n"
     ]
    }
   ],
   "source": [
    "# torchsummary.summary(model, input_size=[(1, 200, 200), (1, 200, 200)], batch_size=-1, device='cpu')"
   ],
   "metadata": {
    "collapsed": false,
    "pycharm": {
     "name": "#%%\n"
    }
   }
  },
  {
   "cell_type": "code",
   "execution_count": 15,
   "outputs": [],
   "source": [
    "def train_moco(net, criterion, optimizer, epochs, device):\n",
    "    train_iter = DataLoader(NDIDatasetContrastiveLearning(), batch_size=8, shuffle=True, drop_last=True)\n",
    "    model.cuda(device)\n",
    "    model.train()\n",
    "    for epoch in range(epochs):\n",
    "        total_loss = 0\n",
    "        for origin, target in train_iter:\n",
    "            origin, target = origin.cuda(device), target.cuda(device)\n",
    "            output, labels = net(origin, target)\n",
    "            loss = criterion(output, labels)\n",
    "            total_loss += loss.item()\n",
    "            optimizer.zero_grad()\n",
    "            loss.backward()\n",
    "            optimizer.step()\n",
    "        print(f'Epoch {epoch + 1}, Loss {total_loss / len(train_iter)}')"
   ],
   "metadata": {
    "collapsed": false,
    "pycharm": {
     "name": "#%%\n"
    }
   }
  },
  {
   "cell_type": "code",
   "execution_count": 16,
   "outputs": [
    {
     "name": "stdout",
     "output_type": "stream",
     "text": [
      "Epoch 1, Loss 2.624095919820926\n",
      "Epoch 2, Loss 3.8455854256947837\n",
      "Epoch 3, Loss 3.729530930519104\n",
      "Epoch 4, Loss 3.5079191525777182\n",
      "Epoch 5, Loss 3.190559903780619\n",
      "Epoch 6, Loss 2.9634703397750854\n",
      "Epoch 7, Loss 3.1603736877441406\n",
      "Epoch 8, Loss 2.9089460372924805\n",
      "Epoch 9, Loss 2.9818639755249023\n",
      "Epoch 10, Loss 2.76382847627004\n",
      "Epoch 11, Loss 2.625672698020935\n",
      "Epoch 12, Loss 2.5617246627807617\n",
      "Epoch 13, Loss 2.5302723248799643\n",
      "Epoch 14, Loss 2.4561252991358438\n",
      "Epoch 15, Loss 2.4001572330792746\n",
      "Epoch 16, Loss 2.316851099332174\n",
      "Epoch 17, Loss 2.1289164423942566\n",
      "Epoch 18, Loss 2.18250838915507\n",
      "Epoch 19, Loss 2.172099471092224\n",
      "Epoch 20, Loss 2.0479262868563333\n",
      "Epoch 21, Loss 1.8936439553896587\n",
      "Epoch 22, Loss 1.9546444217363994\n",
      "Epoch 23, Loss 1.8207480510075886\n",
      "Epoch 24, Loss 1.7978564302126567\n",
      "Epoch 25, Loss 1.725442349910736\n",
      "Epoch 26, Loss 1.6509392460187275\n",
      "Epoch 27, Loss 1.6228861808776855\n",
      "Epoch 28, Loss 1.6434180339177449\n",
      "Epoch 29, Loss 1.5815683404604595\n",
      "Epoch 30, Loss 1.5814982851346333\n",
      "Epoch 31, Loss 1.6935011744499207\n",
      "Epoch 32, Loss 1.557738482952118\n",
      "Epoch 33, Loss 1.5406672358512878\n",
      "Epoch 34, Loss 1.5652037461598713\n",
      "Epoch 35, Loss 1.5388799111048381\n",
      "Epoch 36, Loss 1.4209778904914856\n",
      "Epoch 37, Loss 1.4357016881306965\n",
      "Epoch 38, Loss 1.3107777039210002\n",
      "Epoch 39, Loss 1.4349560340245564\n",
      "Epoch 40, Loss 1.3614062865575154\n",
      "Epoch 41, Loss 1.3102749188741047\n",
      "Epoch 42, Loss 1.295491874217987\n",
      "Epoch 43, Loss 1.2567472457885742\n",
      "Epoch 44, Loss 1.2090967297554016\n",
      "Epoch 45, Loss 1.174134333928426\n",
      "Epoch 46, Loss 1.1771776874860127\n",
      "Epoch 47, Loss 1.1693851749102275\n",
      "Epoch 48, Loss 1.1227215925852458\n",
      "Epoch 49, Loss 1.118366003036499\n",
      "Epoch 50, Loss 1.0288529793421428\n"
     ]
    }
   ],
   "source": [
    "train_moco(model, criterion, optimizer, 50, device)"
   ],
   "metadata": {
    "collapsed": false,
    "pycharm": {
     "name": "#%%\n"
    }
   }
  },
  {
   "cell_type": "code",
   "execution_count": 17,
   "outputs": [],
   "source": [
    "def image_pair_matching(net, original_image, matching_image):\n",
    "    net.cpu()\n",
    "    net.eval()\n",
    "    q = net.encoder_q(original_image)\n",
    "    q = f.normalize(q, dim=1)\n",
    "    k = net.encoder_k(matching_image)\n",
    "    k = f.normalize(k, dim=1)\n",
    "    logits = torch.mm(q, k.T)\n",
    "    return logits"
   ],
   "metadata": {
    "collapsed": false,
    "pycharm": {
     "name": "#%%\n"
    }
   }
  },
  {
   "cell_type": "code",
   "execution_count": 18,
   "outputs": [
    {
     "data": {
      "text/plain": "tensor([[ 0.0712, -0.0359, -0.3427, -0.2899, -0.0107, -0.0201,  0.1613,  0.0990,\n          0.0682,  0.1006,  0.1205, -0.3328,  0.2456,  0.0248,  0.1088,  0.2851,\n          0.2203,  0.0070,  0.3048,  0.0915,  0.3757,  0.0682,  0.1205, -0.2899,\n          0.0070,  0.3757, -0.0160, -0.0243, -0.0359, -0.2899,  0.2456,  0.0237,\n          0.0947, -0.3013, -0.0243, -0.0294,  0.0712,  0.0553,  0.0682,  0.1006,\n          0.1006]], grad_fn=<MmBackward>)"
     },
     "execution_count": 18,
     "metadata": {},
     "output_type": "execute_result"
    }
   ],
   "source": [
    "# Try to take the size of queue less than K, success\n",
    "\n",
    "model.cpu()\n",
    "original_images = list(Path(ORIGINAL_IMAGE).glob('*.jpg'))\n",
    "target_images = list(Path(TARGET_IMAGE).glob('*.jpg'))\n",
    "to_tensor_func = torchvision.transforms.ToTensor()\n",
    "original_image = np.random.choice(original_images)\n",
    "original_tensor = to_tensor_func(Image.open(str(original_image))).unsqueeze(0)\n",
    "target_images_candidates = np.random.choice(target_images, 40)\n",
    "target_tensor = []\n",
    "for i in range(20):\n",
    "    target_tensor.append(to_tensor_func(Image.open(str(target_images_candidates[i]))).unsqueeze(0))\n",
    "target_tensor.append(to_tensor_func(Image.open(str(Path.joinpath(Path(TARGET_IMAGE), original_image.name.split('_')[0] + '.jpg')))).unsqueeze(0))\n",
    "for i in range(20, 40):\n",
    "    target_tensor.append(to_tensor_func(Image.open(str(target_images_candidates[i]))).unsqueeze(0))\n",
    "target_tensor = torch.cat(target_tensor, dim=0)\n",
    "image_pair_matching(model, original_tensor, target_tensor)"
   ],
   "metadata": {
    "collapsed": false,
    "pycharm": {
     "name": "#%%\n"
    }
   }
  },
  {
   "cell_type": "code",
   "execution_count": 19,
   "outputs": [
    {
     "name": "stdout",
     "output_type": "stream",
     "text": [
      "6\n"
     ]
    }
   ],
   "source": [
    "# Try to take all matching images\n",
    "\n",
    "model.cpu()\n",
    "original_images = list(Path(ORIGINAL_IMAGE).glob('*.jpg'))\n",
    "target_images = list(Path(TARGET_IMAGE).glob('*.jpg'))\n",
    "to_tensor_func = torchvision.transforms.ToTensor()\n",
    "original_image = np.random.choice(original_images)\n",
    "original_tensor = to_tensor_func(Image.open(str(original_image))).unsqueeze(0)\n",
    "target_tensor = []\n",
    "for i in range(1, 55):\n",
    "    target_tensor.append(to_tensor_func(Image.open(str(Path.joinpath(Path(TARGET_IMAGE), f'{i}.jpg')))).unsqueeze(0))\n",
    "target_tensor = torch.cat(target_tensor, dim=0)\n",
    "print(str(original_image.name).split('_')[0])"
   ],
   "metadata": {
    "collapsed": false,
    "pycharm": {
     "name": "#%%\n"
    }
   }
  },
  {
   "cell_type": "code",
   "execution_count": 20,
   "outputs": [
    {
     "name": "stdout",
     "output_type": "stream",
     "text": [
      "tensor([[0.0627, 0.0611, 0.0699, 0.0440, 0.2474, 0.4103, 0.1317, 0.1803, 0.2568,\n",
      "         0.0357, 0.0792, 0.1102, 0.2470, 0.1646, 0.0851, 0.0911, 0.0696, 0.1060,\n",
      "         0.2821, 0.0943, 0.1490, 0.0588, 0.0896, 0.2587, 0.1505, 0.1505, 0.0533,\n",
      "         0.0516, 0.1382, 0.1897, 0.0510, 0.0545, 0.1133, 0.1614, 0.0665, 0.1281,\n",
      "         0.2796, 0.2284, 0.1127, 0.1159, 0.0888, 0.1651, 0.1685, 0.0181, 0.0515,\n",
      "         0.1277, 0.0485, 0.1728, 0.0496, 0.0112, 0.1372, 0.0910, 0.0910, 0.1739]],\n",
      "       grad_fn=<MmBackward>)\n",
      "tensor(5)\n"
     ]
    }
   ],
   "source": [
    "logits = image_pair_matching(model, original_tensor, target_tensor)\n",
    "print(logits)\n",
    "print(torch.argmax(logits))"
   ],
   "metadata": {
    "collapsed": false,
    "pycharm": {
     "name": "#%%\n"
    }
   }
  },
  {
   "cell_type": "code",
   "execution_count": null,
   "outputs": [],
   "source": [],
   "metadata": {
    "collapsed": false,
    "pycharm": {
     "name": "#%%\n"
    }
   }
  }
 ],
 "metadata": {
  "kernelspec": {
   "display_name": "Python 3",
   "language": "python",
   "name": "python3"
  },
  "language_info": {
   "codemirror_mode": {
    "name": "ipython",
    "version": 2
   },
   "file_extension": ".py",
   "mimetype": "text/x-python",
   "name": "python",
   "nbconvert_exporter": "python",
   "pygments_lexer": "ipython2",
   "version": "2.7.6"
  }
 },
 "nbformat": 4,
 "nbformat_minor": 0
}