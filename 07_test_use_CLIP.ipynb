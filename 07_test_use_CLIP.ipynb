{
 "cells": [
  {
   "cell_type": "code",
   "execution_count": 1,
   "metadata": {},
   "outputs": [],
   "source": [
    "import clip\n",
    "import torch\n",
    "import torchvision\n",
    "from pathlib import Path\n",
    "from PIL import Image\n",
    "import torch.nn.functional as f"
   ]
  },
  {
   "cell_type": "code",
   "execution_count": 2,
   "metadata": {},
   "outputs": [],
   "source": [
    "TARGET_IMAGE = '../datasets/NDI_images/Integreted/Calculated/'\n",
    "ORIGINAL_IMAGE = '../datasets/NDI_images/Integreted/Observed/'"
   ]
  },
  {
   "cell_type": "code",
   "execution_count": 2,
   "metadata": {},
   "outputs": [
    {
     "data": {
      "text/plain": [
       "['RN50',\n",
       " 'RN101',\n",
       " 'RN50x4',\n",
       " 'RN50x16',\n",
       " 'RN50x64',\n",
       " 'ViT-B/32',\n",
       " 'ViT-B/16',\n",
       " 'ViT-L/14',\n",
       " 'ViT-L/14@336px']"
      ]
     },
     "execution_count": 2,
     "metadata": {},
     "output_type": "execute_result"
    }
   ],
   "source": [
    "clip.available_models()"
   ]
  },
  {
   "cell_type": "code",
   "execution_count": 3,
   "metadata": {},
   "outputs": [
    {
     "ename": "RuntimeError",
     "evalue": "No CUDA GPUs are available",
     "output_type": "error",
     "traceback": [
      "\u001B[0;31m---------------------------------------------------------------------------\u001B[0m",
      "\u001B[0;31mRuntimeError\u001B[0m                              Traceback (most recent call last)",
      "Cell \u001B[0;32mIn[3], line 1\u001B[0m\n\u001B[0;32m----> 1\u001B[0m model \u001B[39m=\u001B[39m clip\u001B[39m.\u001B[39;49mload(\u001B[39m'\u001B[39;49m\u001B[39mViT-L/14\u001B[39;49m\u001B[39m'\u001B[39;49m, device\u001B[39m=\u001B[39;49m\u001B[39m'\u001B[39;49m\u001B[39mcuda\u001B[39;49m\u001B[39m'\u001B[39;49m)\n\u001B[1;32m      2\u001B[0m inputs \u001B[39m=\u001B[39m torch\u001B[39m.\u001B[39mrandn((\u001B[39m1\u001B[39m, \u001B[39m1\u001B[39m, \u001B[39m200\u001B[39m, \u001B[39m200\u001B[39m), device\u001B[39m=\u001B[39m\u001B[39m'\u001B[39m\u001B[39mcuda\u001B[39m\u001B[39m'\u001B[39m)\n",
      "File \u001B[0;32m~/miniconda3/envs/pytorch_env/lib/python3.9/site-packages/clip/clip.py:139\u001B[0m, in \u001B[0;36mload\u001B[0;34m(name, device, jit, download_root)\u001B[0m\n\u001B[1;32m    136\u001B[0m         state_dict \u001B[39m=\u001B[39m torch\u001B[39m.\u001B[39mload(opened_file, map_location\u001B[39m=\u001B[39m\u001B[39m\"\u001B[39m\u001B[39mcpu\u001B[39m\u001B[39m\"\u001B[39m)\n\u001B[1;32m    138\u001B[0m \u001B[39mif\u001B[39;00m \u001B[39mnot\u001B[39;00m jit:\n\u001B[0;32m--> 139\u001B[0m     model \u001B[39m=\u001B[39m build_model(state_dict \u001B[39mor\u001B[39;49;00m model\u001B[39m.\u001B[39;49mstate_dict())\u001B[39m.\u001B[39;49mto(device)\n\u001B[1;32m    140\u001B[0m     \u001B[39mif\u001B[39;00m \u001B[39mstr\u001B[39m(device) \u001B[39m==\u001B[39m \u001B[39m\"\u001B[39m\u001B[39mcpu\u001B[39m\u001B[39m\"\u001B[39m:\n\u001B[1;32m    141\u001B[0m         model\u001B[39m.\u001B[39mfloat()\n",
      "File \u001B[0;32m~/miniconda3/envs/pytorch_env/lib/python3.9/site-packages/torch/nn/modules/module.py:1132\u001B[0m, in \u001B[0;36mModule.to\u001B[0;34m(self, *args, **kwargs)\u001B[0m\n\u001B[1;32m   1128\u001B[0m         \u001B[39mreturn\u001B[39;00m t\u001B[39m.\u001B[39mto(device, dtype \u001B[39mif\u001B[39;00m t\u001B[39m.\u001B[39mis_floating_point() \u001B[39mor\u001B[39;00m t\u001B[39m.\u001B[39mis_complex() \u001B[39melse\u001B[39;00m \u001B[39mNone\u001B[39;00m,\n\u001B[1;32m   1129\u001B[0m                     non_blocking, memory_format\u001B[39m=\u001B[39mconvert_to_format)\n\u001B[1;32m   1130\u001B[0m     \u001B[39mreturn\u001B[39;00m t\u001B[39m.\u001B[39mto(device, dtype \u001B[39mif\u001B[39;00m t\u001B[39m.\u001B[39mis_floating_point() \u001B[39mor\u001B[39;00m t\u001B[39m.\u001B[39mis_complex() \u001B[39melse\u001B[39;00m \u001B[39mNone\u001B[39;00m, non_blocking)\n\u001B[0;32m-> 1132\u001B[0m \u001B[39mreturn\u001B[39;00m \u001B[39mself\u001B[39;49m\u001B[39m.\u001B[39;49m_apply(convert)\n",
      "File \u001B[0;32m~/miniconda3/envs/pytorch_env/lib/python3.9/site-packages/torch/nn/modules/module.py:784\u001B[0m, in \u001B[0;36mModule._apply\u001B[0;34m(self, fn)\u001B[0m\n\u001B[1;32m    782\u001B[0m \u001B[39mdef\u001B[39;00m \u001B[39m_apply\u001B[39m(\u001B[39mself\u001B[39m, fn):\n\u001B[1;32m    783\u001B[0m     \u001B[39mfor\u001B[39;00m module \u001B[39min\u001B[39;00m \u001B[39mself\u001B[39m\u001B[39m.\u001B[39mchildren():\n\u001B[0;32m--> 784\u001B[0m         module\u001B[39m.\u001B[39;49m_apply(fn)\n\u001B[1;32m    786\u001B[0m     \u001B[39mdef\u001B[39;00m \u001B[39mcompute_should_use_set_data\u001B[39m(tensor, tensor_applied):\n\u001B[1;32m    787\u001B[0m         \u001B[39mif\u001B[39;00m torch\u001B[39m.\u001B[39m_has_compatible_shallow_copy_type(tensor, tensor_applied):\n\u001B[1;32m    788\u001B[0m             \u001B[39m# If the new tensor has compatible tensor type as the existing tensor,\u001B[39;00m\n\u001B[1;32m    789\u001B[0m             \u001B[39m# the current behavior is to change the tensor in-place using `.data =`,\u001B[39;00m\n\u001B[0;32m   (...)\u001B[0m\n\u001B[1;32m    794\u001B[0m             \u001B[39m# global flag to let the user control whether they want the future\u001B[39;00m\n\u001B[1;32m    795\u001B[0m             \u001B[39m# behavior of overwriting the existing tensor or not.\u001B[39;00m\n",
      "File \u001B[0;32m~/miniconda3/envs/pytorch_env/lib/python3.9/site-packages/torch/nn/modules/module.py:784\u001B[0m, in \u001B[0;36mModule._apply\u001B[0;34m(self, fn)\u001B[0m\n\u001B[1;32m    782\u001B[0m \u001B[39mdef\u001B[39;00m \u001B[39m_apply\u001B[39m(\u001B[39mself\u001B[39m, fn):\n\u001B[1;32m    783\u001B[0m     \u001B[39mfor\u001B[39;00m module \u001B[39min\u001B[39;00m \u001B[39mself\u001B[39m\u001B[39m.\u001B[39mchildren():\n\u001B[0;32m--> 784\u001B[0m         module\u001B[39m.\u001B[39;49m_apply(fn)\n\u001B[1;32m    786\u001B[0m     \u001B[39mdef\u001B[39;00m \u001B[39mcompute_should_use_set_data\u001B[39m(tensor, tensor_applied):\n\u001B[1;32m    787\u001B[0m         \u001B[39mif\u001B[39;00m torch\u001B[39m.\u001B[39m_has_compatible_shallow_copy_type(tensor, tensor_applied):\n\u001B[1;32m    788\u001B[0m             \u001B[39m# If the new tensor has compatible tensor type as the existing tensor,\u001B[39;00m\n\u001B[1;32m    789\u001B[0m             \u001B[39m# the current behavior is to change the tensor in-place using `.data =`,\u001B[39;00m\n\u001B[0;32m   (...)\u001B[0m\n\u001B[1;32m    794\u001B[0m             \u001B[39m# global flag to let the user control whether they want the future\u001B[39;00m\n\u001B[1;32m    795\u001B[0m             \u001B[39m# behavior of overwriting the existing tensor or not.\u001B[39;00m\n",
      "File \u001B[0;32m~/miniconda3/envs/pytorch_env/lib/python3.9/site-packages/torch/nn/modules/module.py:807\u001B[0m, in \u001B[0;36mModule._apply\u001B[0;34m(self, fn)\u001B[0m\n\u001B[1;32m    803\u001B[0m \u001B[39m# Tensors stored in modules are graph leaves, and we don't want to\u001B[39;00m\n\u001B[1;32m    804\u001B[0m \u001B[39m# track autograd history of `param_applied`, so we have to use\u001B[39;00m\n\u001B[1;32m    805\u001B[0m \u001B[39m# `with torch.no_grad():`\u001B[39;00m\n\u001B[1;32m    806\u001B[0m \u001B[39mwith\u001B[39;00m torch\u001B[39m.\u001B[39mno_grad():\n\u001B[0;32m--> 807\u001B[0m     param_applied \u001B[39m=\u001B[39m fn(param)\n\u001B[1;32m    808\u001B[0m should_use_set_data \u001B[39m=\u001B[39m compute_should_use_set_data(param, param_applied)\n\u001B[1;32m    809\u001B[0m \u001B[39mif\u001B[39;00m should_use_set_data:\n",
      "File \u001B[0;32m~/miniconda3/envs/pytorch_env/lib/python3.9/site-packages/torch/nn/modules/module.py:1130\u001B[0m, in \u001B[0;36mModule.to.<locals>.convert\u001B[0;34m(t)\u001B[0m\n\u001B[1;32m   1127\u001B[0m \u001B[39mif\u001B[39;00m convert_to_format \u001B[39mis\u001B[39;00m \u001B[39mnot\u001B[39;00m \u001B[39mNone\u001B[39;00m \u001B[39mand\u001B[39;00m t\u001B[39m.\u001B[39mdim() \u001B[39min\u001B[39;00m (\u001B[39m4\u001B[39m, \u001B[39m5\u001B[39m):\n\u001B[1;32m   1128\u001B[0m     \u001B[39mreturn\u001B[39;00m t\u001B[39m.\u001B[39mto(device, dtype \u001B[39mif\u001B[39;00m t\u001B[39m.\u001B[39mis_floating_point() \u001B[39mor\u001B[39;00m t\u001B[39m.\u001B[39mis_complex() \u001B[39melse\u001B[39;00m \u001B[39mNone\u001B[39;00m,\n\u001B[1;32m   1129\u001B[0m                 non_blocking, memory_format\u001B[39m=\u001B[39mconvert_to_format)\n\u001B[0;32m-> 1130\u001B[0m \u001B[39mreturn\u001B[39;00m t\u001B[39m.\u001B[39;49mto(device, dtype \u001B[39mif\u001B[39;49;00m t\u001B[39m.\u001B[39;49mis_floating_point() \u001B[39mor\u001B[39;49;00m t\u001B[39m.\u001B[39;49mis_complex() \u001B[39melse\u001B[39;49;00m \u001B[39mNone\u001B[39;49;00m, non_blocking)\n",
      "File \u001B[0;32m~/miniconda3/envs/pytorch_env/lib/python3.9/site-packages/torch/cuda/__init__.py:247\u001B[0m, in \u001B[0;36m_lazy_init\u001B[0;34m()\u001B[0m\n\u001B[1;32m    245\u001B[0m \u001B[39mif\u001B[39;00m \u001B[39m'\u001B[39m\u001B[39mCUDA_MODULE_LOADING\u001B[39m\u001B[39m'\u001B[39m \u001B[39mnot\u001B[39;00m \u001B[39min\u001B[39;00m os\u001B[39m.\u001B[39menviron:\n\u001B[1;32m    246\u001B[0m     os\u001B[39m.\u001B[39menviron[\u001B[39m'\u001B[39m\u001B[39mCUDA_MODULE_LOADING\u001B[39m\u001B[39m'\u001B[39m] \u001B[39m=\u001B[39m \u001B[39m'\u001B[39m\u001B[39mLAZY\u001B[39m\u001B[39m'\u001B[39m\n\u001B[0;32m--> 247\u001B[0m torch\u001B[39m.\u001B[39;49m_C\u001B[39m.\u001B[39;49m_cuda_init()\n\u001B[1;32m    248\u001B[0m \u001B[39m# Some of the queued calls may reentrantly call _lazy_init();\u001B[39;00m\n\u001B[1;32m    249\u001B[0m \u001B[39m# we need to just return without initializing in that case.\u001B[39;00m\n\u001B[1;32m    250\u001B[0m \u001B[39m# However, we must not let any *other* threads in!\u001B[39;00m\n\u001B[1;32m    251\u001B[0m _tls\u001B[39m.\u001B[39mis_initializing \u001B[39m=\u001B[39m \u001B[39mTrue\u001B[39;00m\n",
      "\u001B[0;31mRuntimeError\u001B[0m: No CUDA GPUs are available"
     ]
    }
   ],
   "source": [
    "model = clip.load('ViT-L/14', device='cuda')\n",
    "inputs = torch.randn((1, 1, 200, 200), device='cuda')"
   ]
  },
  {
   "cell_type": "code",
   "execution_count": 10,
   "metadata": {},
   "outputs": [
    {
     "data": {
      "text/plain": [
       "Compose(\n",
       "    Resize(size=224, interpolation=bicubic, max_size=None, antialias=None)\n",
       "    CenterCrop(size=(224, 224))\n",
       "    <function _convert_image_to_rgb at 0x2b71f1cbf550>\n",
       "    ToTensor()\n",
       "    Normalize(mean=(0.48145466, 0.4578275, 0.40821073), std=(0.26862954, 0.26130258, 0.27577711))\n",
       ")"
      ]
     },
     "execution_count": 10,
     "metadata": {},
     "output_type": "execute_result"
    }
   ],
   "source": [
    "model[0].encode_image(inputs)"
   ]
  },
  {
   "cell_type": "code",
   "execution_count": null,
   "metadata": {},
   "outputs": [],
   "source": [
    "model[0].named_parameters"
   ]
  },
  {
   "cell_type": "code",
   "execution_count": 14,
   "metadata": {},
   "outputs": [
    {
     "data": {
      "text/plain": [
       "torch.Size([1, 768])"
      ]
     },
     "execution_count": 14,
     "metadata": {},
     "output_type": "execute_result"
    }
   ],
   "source": [
    "inputs = torch.randn((1, 3, 224, 224), device='cuda')\n",
    "model[0].encode_image(inputs).shape"
   ]
  },
  {
   "cell_type": "code",
   "execution_count": 15,
   "metadata": {},
   "outputs": [
    {
     "data": {
      "text/plain": [
       "Compose(\n",
       "    Resize(size=224, interpolation=bicubic, max_size=None, antialias=None)\n",
       "    CenterCrop(size=(224, 224))\n",
       "    <function _convert_image_to_rgb at 0x2b71f1cbf550>\n",
       "    ToTensor()\n",
       "    Normalize(mean=(0.48145466, 0.4578275, 0.40821073), std=(0.26862954, 0.26130258, 0.27577711))\n",
       ")"
      ]
     },
     "execution_count": 15,
     "metadata": {},
     "output_type": "execute_result"
    }
   ],
   "source": [
    "model[1]"
   ]
  },
  {
   "cell_type": "code",
   "execution_count": 20,
   "metadata": {},
   "outputs": [],
   "source": [
    "device = torch.device('cuda')\n",
    "\n",
    "transforms = torchvision.transforms.Compose([torchvision.transforms.Resize(224), torchvision.transforms.ToTensor()])\n",
    "target_tensor = []\n",
    "for i in range(1, 185):\n",
    "    target_tensor.append(\n",
    "        transforms(Image.open(str(Path.joinpath(Path(TARGET_IMAGE), f'{i}.jpg'))).convert('RGB')).unsqueeze(0))\n",
    "target_tensor = torch.cat(target_tensor, dim=0)\n",
    "target_tensor = target_tensor.cuda(device)\n",
    "\n",
    "input_tensor = transforms(Image.open(str(Path.joinpath(Path(ORIGINAL_IMAGE), '1.jpg'))).convert('RGB')).unsqueeze(0)\n",
    "input_tensor = input_tensor.cuda()\n",
    "\n",
    "target_embeddings = model[0].encode_image(target_tensor)\n",
    "input_embeddings = model[0].encode_image(input_tensor)"
   ]
  },
  {
   "cell_type": "code",
   "execution_count": 25,
   "metadata": {},
   "outputs": [],
   "source": [
    "target_embeddings = f.normalize(target_embeddings, dim=1)\n",
    "input_embeddings = f.normalize(input_embeddings, dim=1)\n",
    "\n",
    "logits = torch.einsum('nc,ck->nk', [target_embeddings, input_embeddings.T])"
   ]
  },
  {
   "cell_type": "code",
   "execution_count": 27,
   "metadata": {},
   "outputs": [
    {
     "data": {
      "text/plain": [
       "tensor(36, device='cuda:0')"
      ]
     },
     "execution_count": 27,
     "metadata": {},
     "output_type": "execute_result"
    }
   ],
   "source": [
    "torch.argmax(logits)"
   ]
  }
 ],
 "metadata": {
  "kernelspec": {
   "display_name": "pytorch_env",
   "language": "python",
   "name": "python3"
  },
  "language_info": {
   "codemirror_mode": {
    "name": "ipython",
    "version": 3
   },
   "file_extension": ".py",
   "mimetype": "text/x-python",
   "name": "python",
   "nbconvert_exporter": "python",
   "pygments_lexer": "ipython3",
   "version": "3.9.16"
  },
  "orig_nbformat": 4,
  "vscode": {
   "interpreter": {
    "hash": "0d4e980a27e930b9ff5731385d4bd44946951fe20aeacecd4aa5a8f48401c490"
   }
  }
 },
 "nbformat": 4,
 "nbformat_minor": 2
}
