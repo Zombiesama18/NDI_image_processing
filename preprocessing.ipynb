{
 "cells": [
  {
   "cell_type": "code",
   "execution_count": 1,
   "metadata": {
    "collapsed": true,
    "pycharm": {
     "name": "#%%\n"
    }
   },
   "outputs": [],
   "source": [
    "import cv2\n",
    "from pathlib import Path\n",
    "import numpy as np"
   ]
  },
  {
   "cell_type": "code",
   "execution_count": 2,
   "outputs": [],
   "source": [
    "figuresPath = Path(str(Path.joinpath(Path('E:/datasets/NDI_images'), '20220725/20220725/Observed_Crop_200x200pix')))"
   ],
   "metadata": {
    "collapsed": false,
    "pycharm": {
     "name": "#%%\n"
    }
   }
  },
  {
   "cell_type": "code",
   "execution_count": 3,
   "outputs": [],
   "source": [
    "file_names = list(figuresPath.glob('*.jpg'))"
   ],
   "metadata": {
    "collapsed": false,
    "pycharm": {
     "name": "#%%\n"
    }
   }
  },
  {
   "cell_type": "code",
   "execution_count": 4,
   "outputs": [],
   "source": [
    "img_file = np.random.choice(file_names)"
   ],
   "metadata": {
    "collapsed": false,
    "pycharm": {
     "name": "#%%\n"
    }
   }
  },
  {
   "cell_type": "code",
   "execution_count": 13,
   "outputs": [],
   "source": [
    "img = cv2.imread(str(img_file), cv2.IMREAD_UNCHANGED)"
   ],
   "metadata": {
    "collapsed": false,
    "pycharm": {
     "name": "#%%\n"
    }
   }
  },
  {
   "cell_type": "code",
   "execution_count": 28,
   "outputs": [
    {
     "name": "stdout",
     "output_type": "stream",
     "text": [
      "max_value_dict defaultdict(<class 'int'>, {255: 30, 251: 1, 253: 2, 248: 3, 252: 3, 249: 2, 246: 1, 254: 3, 245: 2, 244: 1, 243: 1, 239: 1, 250: 2, 241: 1, 247: 1})\n",
      "min_value_dict defaultdict(<class 'int'>, {0: 54})\n"
     ]
    }
   ],
   "source": [
    "import collections\n",
    "\n",
    "max_value_dict = collections.defaultdict(int)\n",
    "min_value_dict = collections.defaultdict(int)\n",
    "for file_name in file_names:\n",
    "    img = cv2.imread(str(file_name), cv2.IMREAD_UNCHANGED)\n",
    "    max_value_dict[np.max(img)] += 1\n",
    "    min_value_dict[np.min(img)] += 1\n",
    "print('max_value_dict', max_value_dict)\n",
    "print('min_value_dict', min_value_dict)"
   ],
   "metadata": {
    "collapsed": false,
    "pycharm": {
     "name": "#%%\n"
    }
   }
  },
  {
   "cell_type": "code",
   "execution_count": 29,
   "outputs": [],
   "source": [
    "normalized_pic_path = Path.joinpath(figuresPath, 'normalized_pics')\n",
    "for file_name in file_names:\n",
    "    file_stem = file_name.name\n",
    "    img = cv2.imread(str(file_name), cv2.IMREAD_UNCHANGED)\n",
    "    if np.max(img) != 255:\n",
    "        img_norm = cv2.normalize(img, None, 0, 255, cv2.NORM_MINMAX)\n",
    "        cv2.imwrite(str(Path.joinpath(normalized_pic_path, file_stem)), img_norm)\n",
    "    else:\n",
    "        cv2.imwrite(str(Path.joinpath(normalized_pic_path, file_stem)), img)"
   ],
   "metadata": {
    "collapsed": false,
    "pycharm": {
     "name": "#%%\n"
    }
   }
  },
  {
   "cell_type": "code",
   "execution_count": 30,
   "outputs": [
    {
     "name": "stdout",
     "output_type": "stream",
     "text": [
      "max_value_dict defaultdict(<class 'int'>, {255: 38, 254: 11, 253: 3, 252: 2})\n",
      "min_value_dict defaultdict(<class 'int'>, {0: 54})\n"
     ]
    }
   ],
   "source": [
    "file_names = list(normalized_pic_path.glob('*.jpg'))\n",
    "max_value_dict = collections.defaultdict(int)\n",
    "min_value_dict = collections.defaultdict(int)\n",
    "for file_name in file_names:\n",
    "    img = cv2.imread(str(file_name), cv2.IMREAD_UNCHANGED)\n",
    "    max_value_dict[np.max(img)] += 1\n",
    "    min_value_dict[np.min(img)] += 1\n",
    "print('max_value_dict', max_value_dict)\n",
    "print('min_value_dict', min_value_dict)"
   ],
   "metadata": {
    "collapsed": false,
    "pycharm": {
     "name": "#%%\n"
    }
   }
  },
  {
   "cell_type": "code",
   "execution_count": 34,
   "outputs": [
    {
     "ename": "KeyboardInterrupt",
     "evalue": "",
     "output_type": "error",
     "traceback": [
      "\u001B[1;31m---------------------------------------------------------------------------\u001B[0m",
      "\u001B[1;31mKeyboardInterrupt\u001B[0m                         Traceback (most recent call last)",
      "Input \u001B[1;32mIn [34]\u001B[0m, in \u001B[0;36m<cell line: 2>\u001B[1;34m()\u001B[0m\n\u001B[0;32m      4\u001B[0m result, threshold \u001B[38;5;241m=\u001B[39m cv2\u001B[38;5;241m.\u001B[39mthreshold(img, \u001B[38;5;241m128\u001B[39m, \u001B[38;5;241m255\u001B[39m, cv2\u001B[38;5;241m.\u001B[39mTHRESH_BINARY)\n\u001B[0;32m      5\u001B[0m cv2\u001B[38;5;241m.\u001B[39mimshow(\u001B[38;5;124m'\u001B[39m\u001B[38;5;124mwindow\u001B[39m\u001B[38;5;124m'\u001B[39m, np\u001B[38;5;241m.\u001B[39mhstack([img, threshold]))\n\u001B[1;32m----> 6\u001B[0m \u001B[43mcv2\u001B[49m\u001B[38;5;241;43m.\u001B[39;49m\u001B[43mwaitKey\u001B[49m\u001B[43m(\u001B[49m\u001B[38;5;241;43m0\u001B[39;49m\u001B[43m)\u001B[49m\n\u001B[0;32m      7\u001B[0m cv2\u001B[38;5;241m.\u001B[39mdestroyAllWindows()\n",
      "\u001B[1;31mKeyboardInterrupt\u001B[0m: "
     ]
    }
   ],
   "source": [
    "file_names = list(normalized_pic_path.glob('*.jpg'))\n",
    "for file_name in file_names:\n",
    "    img = cv2.imread(str(file_name), cv2.IMREAD_UNCHANGED)\n",
    "    result, threshold = cv2.threshold(img, 128, 255, cv2.THRESH_BINARY)\n",
    "    cv2.imshow('window', np.hstack([img, threshold]))\n",
    "    cv2.waitKey(0)\n",
    "    cv2.destroyAllWindows()"
   ],
   "metadata": {
    "collapsed": false,
    "pycharm": {
     "name": "#%%\n"
    }
   }
  },
  {
   "cell_type": "code",
   "execution_count": 35,
   "outputs": [],
   "source": [
    "def on_mouse_rect(event, x, y, flag, mstate):\n",
    "    if event == cv2.EVENT_LBUTTONDOWN:\n",
    "        mstate['selection'] = 'ongoing'\n",
    "        mstate['xybegin'] = (x, y)\n",
    "    elif event == cv2.EVENT_LBUTTONUP:\n",
    "        width = mstate['xyend'][0] - mstate['xybegin'][0]\n",
    "        height = mstate['xyend'][1] - mstate['xybegin'][1]\n",
    "        if width > 0 and height > 0:\n",
    "            mstate['selection'] = 'valid'\n",
    "        else:\n",
    "            mstate['selection'] = 'invalid'\n",
    "    elif event == cv2.EVENT_RBUTTONDOWN:\n",
    "        mstate['selection'] = 'invalid'\n",
    "\n",
    "    if mstate['selection'] == 'ongoing':\n",
    "        mstate['xyend'] = (x, y)"
   ],
   "metadata": {
    "collapsed": false,
    "pycharm": {
     "name": "#%%\n"
    }
   }
  },
  {
   "cell_type": "code",
   "execution_count": 39,
   "outputs": [
    {
     "ename": "KeyboardInterrupt",
     "evalue": "",
     "output_type": "error",
     "traceback": [
      "\u001B[1;31m---------------------------------------------------------------------------\u001B[0m",
      "\u001B[1;31mKeyboardInterrupt\u001B[0m                         Traceback (most recent call last)",
      "Input \u001B[1;32mIn [39]\u001B[0m, in \u001B[0;36m<cell line: 7>\u001B[1;34m()\u001B[0m\n\u001B[0;32m     15\u001B[0m     cv2\u001B[38;5;241m.\u001B[39mrectangle(img, (xbegin, ybegin), (xend, yend), color\u001B[38;5;241m=\u001B[39m\u001B[38;5;241m0\u001B[39m, thickness\u001B[38;5;241m=\u001B[39m\u001B[38;5;241m2\u001B[39m)\n\u001B[0;32m     16\u001B[0m cv2\u001B[38;5;241m.\u001B[39mimshow(\u001B[38;5;124m'\u001B[39m\u001B[38;5;124mresult\u001B[39m\u001B[38;5;124m'\u001B[39m, img)\n\u001B[1;32m---> 17\u001B[0m key \u001B[38;5;241m=\u001B[39m \u001B[43mcv2\u001B[49m\u001B[38;5;241;43m.\u001B[39;49m\u001B[43mwaitKey\u001B[49m\u001B[43m(\u001B[49m\u001B[38;5;241;43m30\u001B[39;49m\u001B[43m)\u001B[49m\n\u001B[0;32m     18\u001B[0m \u001B[38;5;28;01mif\u001B[39;00m key \u001B[38;5;241m==\u001B[39m \u001B[38;5;28mord\u001B[39m(\u001B[38;5;124m'\u001B[39m\u001B[38;5;124mq\u001B[39m\u001B[38;5;124m'\u001B[39m):\n\u001B[0;32m     19\u001B[0m     rec_record\u001B[38;5;241m.\u001B[39mappend([xbegin, ybegin, xend, yend])\n",
      "\u001B[1;31mKeyboardInterrupt\u001B[0m: "
     ]
    }
   ],
   "source": [
    "mstate = {\n",
    "    'selection': 'invalid',\n",
    "    'xybegin': (-1, -1),\n",
    "    'xyend': (-1, -1),\n",
    "}\n",
    "rec_record = []\n",
    "for file_name in file_names:\n",
    "    cv2.namedWindow('result')\n",
    "    cv2.setMouseCallback('result', on_mouse_rect, mstate)\n",
    "    img = cv2.imread(str(file_name), cv2.IMREAD_UNCHANGED)\n",
    "    while True:\n",
    "        xbegin, ybegin = mstate['xybegin']\n",
    "        xend, yend = mstate['xyend']\n",
    "        if mstate['selection'] == 'ongoing':\n",
    "            cv2.rectangle(img, (xbegin, ybegin), (xend, yend), color=0, thickness=2)\n",
    "        cv2.imshow('result', img)\n",
    "        key = cv2.waitKey(30)\n",
    "        if key == ord('q'):\n",
    "            rec_record.append([xbegin, ybegin, xend, yend])\n",
    "            break\n",
    "    cv2.destroyAllWindows()"
   ],
   "metadata": {
    "collapsed": false,
    "pycharm": {
     "name": "#%%\n"
    }
   }
  },
  {
   "cell_type": "code",
   "execution_count": 42,
   "outputs": [
    {
     "data": {
      "text/plain": "array([ 88.1,  82.7, 118.4, 115.5])"
     },
     "execution_count": 42,
     "metadata": {},
     "output_type": "execute_result"
    }
   ],
   "source": [
    "average_rec = np.mean(rec_record, axis=0)\n",
    "average_rec"
   ],
   "metadata": {
    "collapsed": false,
    "pycharm": {
     "name": "#%%\n"
    }
   }
  },
  {
   "cell_type": "code",
   "execution_count": 73,
   "outputs": [
    {
     "ename": "KeyboardInterrupt",
     "evalue": "",
     "output_type": "error",
     "traceback": [
      "\u001B[1;31m---------------------------------------------------------------------------\u001B[0m",
      "\u001B[1;31mKeyboardInterrupt\u001B[0m                         Traceback (most recent call last)",
      "Input \u001B[1;32mIn [73]\u001B[0m, in \u001B[0;36m<cell line: 4>\u001B[1;34m()\u001B[0m\n\u001B[0;32m      8\u001B[0m new_img[ybegin: yend, xbegin: xend] \u001B[38;5;241m=\u001B[39m \u001B[38;5;241m0\u001B[39m\n\u001B[0;32m      9\u001B[0m cv2\u001B[38;5;241m.\u001B[39mimshow(\u001B[38;5;124m'\u001B[39m\u001B[38;5;124mwindow\u001B[39m\u001B[38;5;124m'\u001B[39m, np\u001B[38;5;241m.\u001B[39mhstack([img, new_img]))\n\u001B[1;32m---> 10\u001B[0m \u001B[43mcv2\u001B[49m\u001B[38;5;241;43m.\u001B[39;49m\u001B[43mwaitKey\u001B[49m\u001B[43m(\u001B[49m\u001B[38;5;241;43m0\u001B[39;49m\u001B[43m)\u001B[49m\n\u001B[0;32m     11\u001B[0m cv2\u001B[38;5;241m.\u001B[39mdestroyAllWindows()\n",
      "\u001B[1;31mKeyboardInterrupt\u001B[0m: "
     ]
    }
   ],
   "source": [
    "file_names = list(normalized_pic_path.glob('*.jpg'))\n",
    "average_rec = [83, 80, 117, 120]\n",
    "xbegin, ybegin, xend, yend = average_rec\n",
    "for file_name in file_names:\n",
    "    img = cv2.imread(str(file_name), cv2.IMREAD_UNCHANGED)\n",
    "    # cv2.rectangle(img, (xbegin, ybegin), (xend, yend), color=0, thickness=2)\n",
    "    new_img = img.copy()\n",
    "    new_img[ybegin: yend, xbegin: xend] = 0\n",
    "    cv2.imshow('window', np.hstack([img, new_img]))\n",
    "    cv2.waitKey(0)\n",
    "    cv2.destroyAllWindows()"
   ],
   "metadata": {
    "collapsed": false,
    "pycharm": {
     "name": "#%%\n"
    }
   }
  },
  {
   "cell_type": "code",
   "execution_count": 74,
   "outputs": [],
   "source": [
    "mask_pics_path = Path.joinpath(figuresPath, 'masked_pics')\n",
    "file_names = list(normalized_pic_path.glob('*.jpg'))\n",
    "for file_name in file_names:\n",
    "    file_stem = file_name.name\n",
    "    img = cv2.imread(str(file_name), cv2.IMREAD_UNCHANGED)\n",
    "    img[xbegin: xend, ybegin: yend] = 0\n",
    "    cv2.imwrite(str(Path.joinpath(mask_pics_path, file_stem)), img)"
   ],
   "metadata": {
    "collapsed": false,
    "pycharm": {
     "name": "#%%\n"
    }
   }
  },
  {
   "cell_type": "code",
   "execution_count": 5,
   "outputs": [
    {
     "ename": "KeyboardInterrupt",
     "evalue": "",
     "output_type": "error",
     "traceback": [
      "\u001B[1;31m---------------------------------------------------------------------------\u001B[0m",
      "\u001B[1;31mKeyboardInterrupt\u001B[0m                         Traceback (most recent call last)",
      "Input \u001B[1;32mIn [5]\u001B[0m, in \u001B[0;36m<cell line: 3>\u001B[1;34m()\u001B[0m\n\u001B[0;32m      5\u001B[0m result, threshold \u001B[38;5;241m=\u001B[39m cv2\u001B[38;5;241m.\u001B[39mthreshold(img, \u001B[38;5;241m90\u001B[39m, \u001B[38;5;241m255\u001B[39m, cv2\u001B[38;5;241m.\u001B[39mTHRESH_BINARY)\n\u001B[0;32m      6\u001B[0m cv2\u001B[38;5;241m.\u001B[39mimshow(\u001B[38;5;124m'\u001B[39m\u001B[38;5;124mwindow\u001B[39m\u001B[38;5;124m'\u001B[39m, np\u001B[38;5;241m.\u001B[39mhstack([img, threshold]))\n\u001B[1;32m----> 7\u001B[0m \u001B[43mcv2\u001B[49m\u001B[38;5;241;43m.\u001B[39;49m\u001B[43mwaitKey\u001B[49m\u001B[43m(\u001B[49m\u001B[38;5;241;43m0\u001B[39;49m\u001B[43m)\u001B[49m\n\u001B[0;32m      8\u001B[0m cv2\u001B[38;5;241m.\u001B[39mdestroyAllWindows()\n",
      "\u001B[1;31mKeyboardInterrupt\u001B[0m: "
     ]
    }
   ],
   "source": [
    "mask_pics_path = Path.joinpath(figuresPath, 'masked_pics')\n",
    "file_names = list(mask_pics_path.glob('*.jpg'))\n",
    "for file_name in file_names:\n",
    "    img = cv2.imread(str(file_name), cv2.IMREAD_UNCHANGED)\n",
    "    result, threshold = cv2.threshold(img, 90, 255, cv2.THRESH_BINARY)\n",
    "    cv2.imshow('window', np.hstack([img, threshold]))\n",
    "    cv2.waitKey(0)\n",
    "    cv2.destroyAllWindows()"
   ],
   "metadata": {
    "collapsed": false,
    "pycharm": {
     "name": "#%%\n"
    }
   }
  },
  {
   "cell_type": "code",
   "execution_count": 83,
   "outputs": [
    {
     "ename": "KeyboardInterrupt",
     "evalue": "",
     "output_type": "error",
     "traceback": [
      "\u001B[1;31m---------------------------------------------------------------------------\u001B[0m",
      "\u001B[1;31mKeyboardInterrupt\u001B[0m                         Traceback (most recent call last)",
      "Input \u001B[1;32mIn [83]\u001B[0m, in \u001B[0;36m<cell line: 2>\u001B[1;34m()\u001B[0m\n\u001B[0;32m      4\u001B[0m result \u001B[38;5;241m=\u001B[39m cv2\u001B[38;5;241m.\u001B[39mfastNlMeansDenoising(img, \u001B[38;5;28;01mNone\u001B[39;00m, \u001B[38;5;241m10\u001B[39m, \u001B[38;5;241m10\u001B[39m)\n\u001B[0;32m      5\u001B[0m cv2\u001B[38;5;241m.\u001B[39mimshow(\u001B[38;5;124m'\u001B[39m\u001B[38;5;124mwindow\u001B[39m\u001B[38;5;124m'\u001B[39m, np\u001B[38;5;241m.\u001B[39mhstack([img, result]))\n\u001B[1;32m----> 6\u001B[0m \u001B[43mcv2\u001B[49m\u001B[38;5;241;43m.\u001B[39;49m\u001B[43mwaitKey\u001B[49m\u001B[43m(\u001B[49m\u001B[38;5;241;43m0\u001B[39;49m\u001B[43m)\u001B[49m\n\u001B[0;32m      7\u001B[0m cv2\u001B[38;5;241m.\u001B[39mdestroyAllWindows()\n",
      "\u001B[1;31mKeyboardInterrupt\u001B[0m: "
     ]
    }
   ],
   "source": [
    "# Useless\n",
    "\n",
    "file_names = list(normalized_pic_path.glob('*.jpg'))\n",
    "for file_name in file_names:\n",
    "    img = cv2.imread(str(file_name), cv2.IMREAD_UNCHANGED)\n",
    "    result = cv2.fastNlMeansDenoising(img, None, 10, 10)\n",
    "    cv2.imshow('window', np.hstack([img, result]))\n",
    "    cv2.waitKey(0)\n",
    "    cv2.destroyAllWindows()"
   ],
   "metadata": {
    "collapsed": false,
    "pycharm": {
     "name": "#%%\n"
    }
   }
  },
  {
   "cell_type": "code",
   "execution_count": null,
   "outputs": [],
   "source": [
    "from matplotlib import pyplot as plt\n",
    "\n",
    "file_names = list(normalized_pic_path.glob('*.jpg'))\n",
    "for file_name in file_names:\n",
    "    img = cv2.imread(str(file_name), cv2.IMREAD_UNCHANGED)\n",
    "    hist = cv2.calcHist([img], [0], None, [256], [0, 256])\n",
    "    fig, axes = plt.subplots(1, 2)\n",
    "    axes[0].imshow(img)\n",
    "    axes[1].plot(hist)\n",
    "    axes[1].set_xlim([0, 256])\n",
    "    plt.show()\n",
    "    cv2.waitKey(0)"
   ],
   "metadata": {
    "collapsed": false,
    "pycharm": {
     "name": "#%%\n",
     "is_executing": true
    }
   }
  },
  {
   "cell_type": "code",
   "execution_count": 5,
   "outputs": [],
   "source": [
    "mask_pics_path = Path.joinpath(figuresPath, 'masked_pics')\n",
    "file_names = list(mask_pics_path.glob('*.jpg'))\n",
    "centrosymmetric_pics_path = Path.joinpath(figuresPath, 'centrosysmmetric_pics')\n",
    "for file_name in file_names:\n",
    "    file_stem = file_name.name\n",
    "    img = cv2.imread(str(file_name), cv2.IMREAD_UNCHANGED)\n",
    "    height, width = img.shape\n",
    "    for i in range(height):\n",
    "        for j in range(width):\n",
    "            img[j, i] = max(img[j, i], img[width - j - 1, height - i - 1])\n",
    "    cv2.imwrite(str(Path.joinpath(centrosymmetric_pics_path, file_stem)), img)"
   ],
   "metadata": {
    "collapsed": false,
    "pycharm": {
     "name": "#%%\n"
    }
   }
  },
  {
   "cell_type": "code",
   "execution_count": 10,
   "outputs": [],
   "source": [
    "centrosymmetric_pics_path = Path.joinpath(figuresPath, 'centrosysmmetric_pics')\n",
    "file_names = list(centrosymmetric_pics_path.glob('*.jpg'))\n",
    "for file_name in file_names:\n",
    "    img = cv2.imread(str(file_name), cv2.IMREAD_UNCHANGED)\n",
    "    result, threshold = cv2.threshold(img, 100, 255, cv2.THRESH_BINARY)\n",
    "    cv2.imshow('window', np.hstack([img, threshold]))\n",
    "    key = cv2.waitKey(0)\n",
    "    if key == ord('q'):\n",
    "        cv2.destroyAllWindows()\n",
    "        break\n",
    "    cv2.destroyAllWindows()"
   ],
   "metadata": {
    "collapsed": false,
    "pycharm": {
     "name": "#%%\n"
    }
   }
  },
  {
   "cell_type": "code",
   "execution_count": 11,
   "outputs": [],
   "source": [
    "binaryzation_pics_path = Path.joinpath(figuresPath, 'binaryzation_pics')\n",
    "file_names = list(centrosymmetric_pics_path.glob('*.jpg'))\n",
    "for file_name in file_names:\n",
    "    file_stem = file_name.name\n",
    "    img = cv2.imread(str(file_name), cv2.IMREAD_UNCHANGED)\n",
    "    result, threshold = cv2.threshold(img, 100, 255, cv2.THRESH_BINARY)\n",
    "    cv2.imwrite(str(Path.joinpath(binaryzation_pics_path, file_stem)), threshold)"
   ],
   "metadata": {
    "collapsed": false,
    "pycharm": {
     "name": "#%%\n"
    }
   }
  },
  {
   "cell_type": "code",
   "execution_count": 12,
   "outputs": [],
   "source": [
    "stacked_pics_path = Path.joinpath(figuresPath, 'stacked_centrosymmetric_binaryzation_pics')\n",
    "file_names = list(centrosymmetric_pics_path.glob('*.jpg'))\n",
    "for file_name in file_names:\n",
    "    file_stem = file_name.name\n",
    "    img = cv2.imread(str(file_name), cv2.IMREAD_UNCHANGED)\n",
    "    result, threshold = cv2.threshold(img, 100, 255, cv2.THRESH_BINARY)\n",
    "    img = np.hstack([img, threshold])\n",
    "    cv2.imwrite(str(Path.joinpath(stacked_pics_path, file_stem)), img)"
   ],
   "metadata": {
    "collapsed": false,
    "pycharm": {
     "name": "#%%\n"
    }
   }
  },
  {
   "cell_type": "code",
   "execution_count": 17,
   "outputs": [],
   "source": [
    "stacked_pics_path = Path.joinpath(figuresPath, 'stacked_original_binarization_pics')\n",
    "file_names = list(binaryzation_pics_path.glob('*.jpg'))\n",
    "for file_name in file_names:\n",
    "    file_stem = file_name.name\n",
    "    original_img = cv2.imread(str(Path.joinpath(figuresPath, file_stem)), cv2.IMREAD_UNCHANGED)\n",
    "    img = cv2.imread(str(file_name), cv2.IMREAD_UNCHANGED)\n",
    "    img = np.hstack([original_img, img])\n",
    "    cv2.imwrite(str(Path.joinpath(stacked_pics_path, file_stem)), img)"
   ],
   "metadata": {
    "collapsed": false,
    "pycharm": {
     "name": "#%%\n"
    }
   }
  },
  {
   "cell_type": "code",
   "execution_count": 43,
   "outputs": [
    {
     "name": "stdout",
     "output_type": "stream",
     "text": [
      "[('[4 -4 -1]', 10), ('[1 -10 8]', 9), ('[1 -1 -1]', 8), ('[1 -3 3]', 5), ('[7 -8 -35]', 3), ('[2 -2 -1]', 2), ('[1 -5 3]', 2), ('[-4 3 15]', 2), ('[3 2 -8]', 2), ('[-10 10 -47]', 2), ('[-6 5 -3]', 2), ('[3 7 -15]', 1), ('[-3 -2 7]', 1), ('[-4 3 12]', 1), ('[-6 14 -5]', 1), ('[52 -19 -10]', 1), ('[-1 3 -1]', 1), ('[4 -5 -8]', 1)]\n",
      "18\n"
     ]
    }
   ],
   "source": [
    "import re\n",
    "import collections\n",
    "\n",
    "file_path = Path('E:/datasets/NDI_images/20220725/20220725')\n",
    "text = open(str(Path.joinpath(file_path, '方位 (1).txt')), 'r', encoding='utf-8').readlines()\n",
    "for i in range(len(text)):\n",
    "    text[i] = re.search(r'\\[.*?]', text[i]).group()\n",
    "text_dict = collections.defaultdict(int)\n",
    "for pattern in text:\n",
    "    text_dict[pattern] += 1\n",
    "sorted_dict = sorted(text_dict.items(), key=lambda x: x[1], reverse=True)\n",
    "print(sorted_dict)\n",
    "print(len(sorted_dict))"
   ],
   "metadata": {
    "collapsed": false,
    "pycharm": {
     "name": "#%%\n"
    }
   }
  },
  {
   "cell_type": "code",
   "execution_count": 5,
   "outputs": [],
   "source": [
    "target_images_path = Path('E:/datasets/NDI_images/20220725/20220725/Calculated_200x200')\n",
    "grayscale_path = Path.joinpath(target_images_path, 'grayscale')\n",
    "file_names = list(target_images_path.glob('*.jpg'))\n",
    "for file_name in file_names:\n",
    "    file_stem = file_name.name\n",
    "    img = cv2.imread(str(file_name), cv2.IMREAD_UNCHANGED)\n",
    "    cv2.imwrite(str(Path.joinpath(grayscale_path, file_stem)), cv2.cvtColor(img, cv2.COLOR_BGR2GRAY))"
   ],
   "metadata": {
    "collapsed": false,
    "pycharm": {
     "name": "#%%\n"
    }
   }
  },
  {
   "cell_type": "code",
   "execution_count": 6,
   "outputs": [
    {
     "data": {
      "text/plain": "(200, 200)"
     },
     "execution_count": 6,
     "metadata": {},
     "output_type": "execute_result"
    }
   ],
   "source": [
    "file_names = list(grayscale_path.glob('*.jpg'))\n",
    "img = cv2.imread(str(file_names[0]), cv2.IMREAD_UNCHANGED)\n",
    "img.shape"
   ],
   "metadata": {
    "collapsed": false,
    "pycharm": {
     "name": "#%%\n"
    }
   }
  },
  {
   "cell_type": "code",
   "execution_count": 11,
   "outputs": [
    {
     "ename": "KeyboardInterrupt",
     "evalue": "",
     "output_type": "error",
     "traceback": [
      "\u001B[1;31m---------------------------------------------------------------------------\u001B[0m",
      "\u001B[1;31mKeyboardInterrupt\u001B[0m                         Traceback (most recent call last)",
      "Input \u001B[1;32mIn [11]\u001B[0m, in \u001B[0;36m<cell line: 3>\u001B[1;34m()\u001B[0m\n\u001B[0;32m      5\u001B[0m cv2\u001B[38;5;241m.\u001B[39mcircle(img, center\u001B[38;5;241m=\u001B[39m(\u001B[38;5;241m101\u001B[39m, \u001B[38;5;241m100\u001B[39m), radius\u001B[38;5;241m=\u001B[39m\u001B[38;5;241m22\u001B[39m, color\u001B[38;5;241m=\u001B[39m(\u001B[38;5;241m255\u001B[39m, \u001B[38;5;241m0\u001B[39m, \u001B[38;5;241m0\u001B[39m), thickness\u001B[38;5;241m=\u001B[39m\u001B[38;5;241m1\u001B[39m)\n\u001B[0;32m      6\u001B[0m cv2\u001B[38;5;241m.\u001B[39mimshow(\u001B[38;5;124m'\u001B[39m\u001B[38;5;124mtest\u001B[39m\u001B[38;5;124m'\u001B[39m, img)\n\u001B[1;32m----> 7\u001B[0m \u001B[43mcv2\u001B[49m\u001B[38;5;241;43m.\u001B[39;49m\u001B[43mwaitKey\u001B[49m\u001B[43m(\u001B[49m\u001B[38;5;241;43m0\u001B[39;49m\u001B[43m)\u001B[49m\n\u001B[0;32m      8\u001B[0m cv2\u001B[38;5;241m.\u001B[39mdestroyAllWindows()\n",
      "\u001B[1;31mKeyboardInterrupt\u001B[0m: "
     ]
    }
   ],
   "source": [
    "normalized_pic_path = Path.joinpath(figuresPath, 'normalized_pics')\n",
    "file_names = list(normalized_pic_path.glob('*.jpg'))\n",
    "for file_name in file_names:\n",
    "    img = cv2.imread(str(file_name), cv2.IMREAD_UNCHANGED)\n",
    "    cv2.circle(img, center=(101, 100), radius=22, color=(255, 0, 0), thickness=1)\n",
    "    cv2.imshow('test', img)\n",
    "    cv2.waitKey(0)\n",
    "    cv2.destroyAllWindows()"
   ],
   "metadata": {
    "collapsed": false,
    "pycharm": {
     "name": "#%%\n"
    }
   }
  },
  {
   "cell_type": "code",
   "execution_count": 17,
   "outputs": [],
   "source": [
    "circle_mask_pics_path = Path.joinpath(figuresPath, 'circle_masked_pics')\n",
    "file_names = list(normalized_pic_path.glob('*.jpg'))\n",
    "for file_name in file_names:\n",
    "    file_stem = file_name.name\n",
    "    img = cv2.imread(str(file_name), cv2.IMREAD_UNCHANGED)\n",
    "    height, width = img.shape\n",
    "    for i in range(height):\n",
    "        for j in range(width):\n",
    "            if (i - 101) ** 2 + (j - 100) ** 2 <= 484:\n",
    "                img[j, i] = 0\n",
    "    cv2.imwrite(str(Path.joinpath(circle_mask_pics_path, file_stem)), img)"
   ],
   "metadata": {
    "collapsed": false,
    "pycharm": {
     "name": "#%%\n"
    }
   }
  },
  {
   "cell_type": "code",
   "execution_count": 19,
   "outputs": [],
   "source": [
    "circle_mask_pics_path = Path.joinpath(figuresPath, 'circle_masked_pics')\n",
    "file_names = list(circle_mask_pics_path.glob('*.jpg'))\n",
    "circle_centrosymmetric_pics_path = Path.joinpath(figuresPath, 'circle_centrosysmmetric_pics')\n",
    "for file_name in file_names:\n",
    "    file_stem = file_name.name\n",
    "    img = cv2.imread(str(file_name), cv2.IMREAD_UNCHANGED)\n",
    "    height, width = img.shape\n",
    "    for i in range(height):\n",
    "        for j in range(width):\n",
    "            img[j, i] = max(img[j, i], img[width - j - 1, height - i - 1])\n",
    "    cv2.imwrite(str(Path.joinpath(circle_centrosymmetric_pics_path, file_stem)), img)"
   ],
   "metadata": {
    "collapsed": false,
    "pycharm": {
     "name": "#%%\n"
    }
   }
  },
  {
   "cell_type": "code",
   "execution_count": 22,
   "outputs": [],
   "source": [
    "circle_binaryzation_pics_path = Path.joinpath(figuresPath, 'circle_binaryzation_pics')\n",
    "file_names = list(circle_centrosymmetric_pics_path.glob('*.jpg'))\n",
    "for file_name in file_names:\n",
    "    file_stem = file_name.name\n",
    "    img = cv2.imread(str(file_name), cv2.IMREAD_UNCHANGED)\n",
    "    result, threshold = cv2.threshold(img, 110, 255, cv2.THRESH_BINARY)\n",
    "    cv2.imwrite(str(Path.joinpath(circle_binaryzation_pics_path, file_stem)), threshold)"
   ],
   "metadata": {
    "collapsed": false,
    "pycharm": {
     "name": "#%%\n"
    }
   }
  },
  {
   "cell_type": "code",
   "execution_count": null,
   "outputs": [],
   "source": [],
   "metadata": {
    "collapsed": false,
    "pycharm": {
     "name": "#%%\n"
    }
   }
  }
 ],
 "metadata": {
  "kernelspec": {
   "display_name": "Python 3",
   "language": "python",
   "name": "python3"
  },
  "language_info": {
   "codemirror_mode": {
    "name": "ipython",
    "version": 2
   },
   "file_extension": ".py",
   "mimetype": "text/x-python",
   "name": "python",
   "nbconvert_exporter": "python",
   "pygments_lexer": "ipython2",
   "version": "2.7.6"
  }
 },
 "nbformat": 4,
 "nbformat_minor": 0
}